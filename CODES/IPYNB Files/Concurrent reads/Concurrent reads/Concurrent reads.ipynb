{
 "cells": [
  {
   "cell_type": "code",
   "execution_count": 3,
   "id": "7141aa87",
   "metadata": {},
   "outputs": [
    {
     "name": "stdout",
     "output_type": "stream",
     "text": [
      "10 Python files with SQL JDBC Connecion and a SQL Query are getting run in parallel\n",
      "\n",
      "Start time , End time of each of the sql connection is recorded\n",
      "Time taken for execution of each of the attempt is also recorded \n",
      "This shows the data is fetched parallely\n",
      "\n",
      "Start time:  2022-05-15 23:49:56.975806  End time:  2022-05-15 23:49:57.967009  Time taken:  0:00:00.991203\n",
      "Start time:  2022-05-15 23:49:57.086086  End time:  2022-05-15 23:49:58.420413  Time taken:  0:00:01.334327\n",
      "Start time:  2022-05-15 23:49:57.017277  End time:  2022-05-15 23:49:58.426409  Time taken:  0:00:01.409132\n",
      "Start time:  2022-05-15 23:49:57.067573  End time:  2022-05-15 23:49:58.429090  Time taken:  0:00:01.361517\n",
      "Start time:  2022-05-15 23:49:57.103509  End time:  2022-05-15 23:49:58.431577  Time taken:  0:00:01.328068\n",
      "Start time:  2022-05-15 23:49:57.105610  End time:  2022-05-15 23:49:58.440042  Time taken:  0:00:01.334432\n",
      "Start time:  2022-05-15 23:49:57.060035  End time:  2022-05-15 23:49:58.440120  Time taken:  0:00:01.380085\n",
      "Start time:  2022-05-15 23:49:57.067015  End time:  2022-05-15 23:49:58.445349  Time taken:  0:00:01.378334\n",
      "Start time:  2022-05-15 23:49:57.045182  End time:  2022-05-15 23:49:58.450315  Time taken:  0:00:01.405133\n",
      "Start time:  2022-05-15 23:49:57.045049  End time:  2022-05-15 23:49:59.314491  Time taken:  0:00:02.269442\n"
     ]
    }
   ],
   "source": [
    "import os\n",
    "import time\n",
    "print(\"10 Python files with SQL JDBC Connecion and a SQL Query are getting run in parallel\\n\")\n",
    "print(\"Start time , End time of each of the sql connection is recorded\")\n",
    "print(\"Time taken for execution of each of the attempt is also recorded \")\n",
    "print(\"This shows the data is fetched parallely\")\n",
    "print()\n",
    "res = os.system('sh concurrent_reads.sh')"
   ]
  },
  {
   "cell_type": "code",
   "execution_count": 17,
   "id": "dd18a45f",
   "metadata": {},
   "outputs": [
    {
     "data": {
      "text/plain": [
       "0"
      ]
     },
     "execution_count": 17,
     "metadata": {},
     "output_type": "execute_result"
    }
   ],
   "source": []
  },
  {
   "cell_type": "code",
   "execution_count": null,
   "id": "f900f86c",
   "metadata": {},
   "outputs": [],
   "source": []
  }
 ],
 "metadata": {
  "kernelspec": {
   "display_name": "Python 3 (ipykernel)",
   "language": "python",
   "name": "python3"
  },
  "language_info": {
   "codemirror_mode": {
    "name": "ipython",
    "version": 3
   },
   "file_extension": ".py",
   "mimetype": "text/x-python",
   "name": "python",
   "nbconvert_exporter": "python",
   "pygments_lexer": "ipython3",
   "version": "3.9.7"
  }
 },
 "nbformat": 4,
 "nbformat_minor": 5
}
