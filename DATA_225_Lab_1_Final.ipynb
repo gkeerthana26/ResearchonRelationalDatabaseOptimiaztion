{
 "cells": [
  {
   "cell_type": "markdown",
   "metadata": {},
   "source": [
    "# <center><u> LAB 1 - SJSU MOVIE DATA ANALYSIS</u></center>\n",
    "    \n",
    "\n",
    "<Center>Course: DATA 225 - DB SYSTEM FOR ANALYTICS</center>\n",
    "<center>Submitted by : Gayathri Sundareshwar , Keerthana Gopikrishnan ,  Deepasha Jenamani</Center>\n",
    "<center>25th Mar 2022</center>"
   ]
  },
  {
   "cell_type": "markdown",
   "metadata": {},
   "source": [
    "## <Center> READ ME <CENTER>"
   ]
  },
  {
   "cell_type": "markdown",
   "metadata": {},
   "source": [
    "Please read the following before proceeding with the execution.<br>\n",
    "\n",
    "The connection details for the aws db used is:  <br>\n",
    "&emsp;&emsp; <b>Host:</b>          lab-assignment-225.cibzfcia066j.us-east-1.rds.amazonaws.com<br>\n",
    "&emsp;&emsp; <b>Port:</b>          3306<br>\n",
    "&emsp;&emsp; <b>UserName:</b>      admin<br>\n",
    "&emsp;&emsp; <b>Password:</b>      welcome123<br>\n",
    "\n",
    "Some of the queries and commands below require dynamic input from the user. Please wait for the input pop up and enter valid data.<br>\n",
    "\n",
    "NOTE:\n",
    "\n",
    "Stored Procedure 2,3 and 4 (headings given below) requires dynamic input. Please provide as mentioned below samples:<br>\n",
    "\n",
    "<b>Stored Procedure 2 : </b>Please input valid month number . example : 1,2,3, ... ,12<br>\n",
    "<b>Stored Procedure 3 : </b>Please input valid year between 2006 and 2016. Since the given movie dataset has inputs for those years only.<br>\n",
    "<b>Stored Procedure 4 : </b>Please input customer id (Example : 9000000001, 9000000002, ... , 9000001000 ) and next it will ask for choice between personal or invoice. provide either one as input.<br>"
   ]
  },
  {
   "cell_type": "markdown",
   "metadata": {},
   "source": [
    "## <center>IMPORTING PACKAGES <center>"
   ]
  },
  {
   "cell_type": "code",
   "execution_count": 3,
   "metadata": {},
   "outputs": [],
   "source": [
    "import mysql.connector\n",
    "import pandas as pd\n",
    "import numpy as np\n",
    "import math\n",
    "import statistics as stat\n",
    "import matplotlib.pyplot as plt\n",
    "import seaborn as sns\n",
    "import random\n",
    "import warnings\n",
    "warnings.filterwarnings('ignore')\n",
    "%matplotlib inline\n",
    "from getpass import getpass\n",
    "from time import time\n",
    "\n",
    "start = time()"
   ]
  },
  {
   "cell_type": "markdown",
   "metadata": {},
   "source": [
    "## <Center>AWS MYSQL DB CONNECTION<center>"
   ]
  },
  {
   "cell_type": "markdown",
   "metadata": {},
   "source": [
    "### Enter the username and Password to connect to the AWS MYSQL DB:"
   ]
  },
  {
   "cell_type": "code",
   "execution_count": 4,
   "metadata": {
    "scrolled": true
   },
   "outputs": [
    {
     "name": "stdout",
     "output_type": "stream",
     "text": [
      " Connecting to the host 'lab-assignment-225.cibzfcia066j.us-east-1.rds.amazonaws.com' \n",
      "Enter username to connect to the AWS MYSQL DB: admin\n",
      "Enter password  to connect to the AWS MYSQL DB: ········\n"
     ]
    }
   ],
   "source": [
    "print(\" Connecting to the host 'lab-assignment-225.cibzfcia066j.us-east-1.rds.amazonaws.com' \")\n",
    "global usrnm;\n",
    "usrnm=input(\"Enter username to connect to the AWS MYSQL DB: \")\n",
    "global pwd;\n",
    "pwd=getpass(\"Enter password  to connect to the AWS MYSQL DB: \")"
   ]
  },
  {
   "cell_type": "markdown",
   "metadata": {},
   "source": [
    "### Display the databases present in the connection:"
   ]
  },
  {
   "cell_type": "code",
   "execution_count": 5,
   "metadata": {},
   "outputs": [
    {
     "name": "stdout",
     "output_type": "stream",
     "text": [
      "('information_schema',)\n",
      "('mysql',)\n",
      "('perf_measurement',)\n",
      "('performance_schema',)\n",
      "('sjsu_movie_db',)\n",
      "('sys',)\n"
     ]
    }
   ],
   "source": [
    "from mysql.connector import connect, Error\n",
    "try:\n",
    "    with connect(\n",
    "        host=\"lab-assignment-225.cibzfcia066j.us-east-1.rds.amazonaws.com\",user=usrnm, password=pwd ) as connection:\n",
    "        show_db_query = \"SHOW DATABASES\"\n",
    "        with connection.cursor() as cursor:\n",
    "            cursor.execute(show_db_query)\n",
    "            for db in cursor:\n",
    "                print(db)\n",
    "except Error as e:\n",
    "    print(e)"
   ]
  },
  {
   "cell_type": "markdown",
   "metadata": {},
   "source": [
    "### Describe Movie Data table:"
   ]
  },
  {
   "cell_type": "code",
   "execution_count": 6,
   "metadata": {},
   "outputs": [
    {
     "name": "stdout",
     "output_type": "stream",
     "text": [
      "('Rank_ID', b'int', 'NO', 'PRI', None, 'auto_increment')\n",
      "('Title', b'varchar(100)', 'YES', '', None, '')\n",
      "('Description', b'varchar(300)', 'YES', '', None, '')\n",
      "('Director', b'varchar(20)', 'YES', '', None, '')\n",
      "('Year', b'int', 'YES', '', None, '')\n",
      "('Runtime', b'int', 'YES', '', None, '')\n",
      "('Rating', b'float', 'YES', '', None, '')\n",
      "('Votes', b'bigint', 'YES', '', None, '')\n",
      "('Revenue', b'float', 'YES', '', None, '')\n",
      "('Metascore', b'int', 'YES', '', None, '')\n"
     ]
    }
   ],
   "source": [
    "from mysql.connector import connect, Error\n",
    "\n",
    "try:\n",
    "     with connect(host=\"lab-assignment-225.cibzfcia066j.us-east-1.rds.amazonaws.com\",\n",
    "                 user=usrnm,\n",
    "                 password=pwd,\n",
    "                 database=\"sjsu_movie_db\"\n",
    "    ) as connection:\n",
    "        show_table_query = \"DESCRIBE Movie_data\"\n",
    "        with connection.cursor() as cursor:\n",
    "            cursor.execute(show_table_query)\n",
    "            result = cursor.fetchall()\n",
    "            for row in result:\n",
    "                print(row)\n",
    "except Error as e:\n",
    "    print(e)"
   ]
  },
  {
   "cell_type": "markdown",
   "metadata": {},
   "source": [
    "## <center> SQL QUERIES EXECUTION </center>"
   ]
  },
  {
   "cell_type": "markdown",
   "metadata": {},
   "source": [
    "### SQL QUERY 1:"
   ]
  },
  {
   "cell_type": "markdown",
   "metadata": {},
   "source": [
    "#### Display the No of customers present in each country"
   ]
  },
  {
   "cell_type": "code",
   "execution_count": 7,
   "metadata": {
    "scrolled": true
   },
   "outputs": [
    {
     "data": {
      "text/html": [
       "<div>\n",
       "<style scoped>\n",
       "    .dataframe tbody tr th:only-of-type {\n",
       "        vertical-align: middle;\n",
       "    }\n",
       "\n",
       "    .dataframe tbody tr th {\n",
       "        vertical-align: top;\n",
       "    }\n",
       "\n",
       "    .dataframe thead th {\n",
       "        text-align: right;\n",
       "    }\n",
       "</style>\n",
       "<table border=\"1\" class=\"dataframe\">\n",
       "  <thead>\n",
       "    <tr style=\"text-align: right;\">\n",
       "      <th></th>\n",
       "      <th>Country</th>\n",
       "      <th>Count</th>\n",
       "    </tr>\n",
       "  </thead>\n",
       "  <tbody>\n",
       "    <tr>\n",
       "      <th>0</th>\n",
       "      <td>USA</td>\n",
       "      <td>502</td>\n",
       "    </tr>\n",
       "    <tr>\n",
       "      <th>1</th>\n",
       "      <td>United Kingdom</td>\n",
       "      <td>285</td>\n",
       "    </tr>\n",
       "    <tr>\n",
       "      <th>2</th>\n",
       "      <td>Canada</td>\n",
       "      <td>214</td>\n",
       "    </tr>\n",
       "  </tbody>\n",
       "</table>\n",
       "</div>"
      ],
      "text/plain": [
       "          Country  Count\n",
       "0             USA    502\n",
       "1  United Kingdom    285\n",
       "2          Canada    214"
      ]
     },
     "execution_count": 7,
     "metadata": {},
     "output_type": "execute_result"
    }
   ],
   "source": [
    "from mysql.connector import connect, Error\n",
    "\n",
    "try:\n",
    "     with connect(host=\"lab-assignment-225.cibzfcia066j.us-east-1.rds.amazonaws.com\",\n",
    "                 user=usrnm,\n",
    "                 password=pwd,\n",
    "                 database=\"sjsu_movie_db\"\n",
    "    ) as connection:\n",
    "        sql1 = \"select cust_country,count(*) from customer_details group by cust_country order by count(*) desc;\"\n",
    "        with connection.cursor() as cur1:\n",
    "            cur1.execute(sql1)\n",
    "            country_wise_customer = pd. DataFrame (cur1. fetchall ())\n",
    "except Error as e:\n",
    "    print(e)\n",
    "\n",
    "country_wise_customer.columns =['Country','Count'] \n",
    "country_wise_customer"
   ]
  },
  {
   "cell_type": "code",
   "execution_count": 8,
   "metadata": {
    "scrolled": true
   },
   "outputs": [
    {
     "data": {
      "image/png": "[encoded data removed]",
      "text/plain": [
       "<Figure size 432x288 with 1 Axes>"
      ]
     },
     "metadata": {
      "needs_background": "light"
     },
     "output_type": "display_data"
    }
   ],
   "source": [
    "plt.title('Count of users per country', size=16,color='BLACK')\n",
    "plt.xlabel('Country', size=13)\n",
    "plt.ylabel('Count', size=13)\n",
    "sns.set(rc = {'figure.figsize':(8,3)})\n",
    "g = sns.barplot(x = 'Country', y = 'Count',data=country_wise_customer)"
   ]
  },
  {
   "cell_type": "markdown",
   "metadata": {},
   "source": [
    "### SQL Query 2:"
   ]
  },
  {
   "cell_type": "markdown",
   "metadata": {},
   "source": [
    "#### Display the No of Movies Released Based on Year"
   ]
  },
  {
   "cell_type": "code",
   "execution_count": 9,
   "metadata": {},
   "outputs": [
    {
     "data": {
      "text/html": [
       "<div>\n",
       "<style scoped>\n",
       "    .dataframe tbody tr th:only-of-type {\n",
       "        vertical-align: middle;\n",
       "    }\n",
       "\n",
       "    .dataframe tbody tr th {\n",
       "        vertical-align: top;\n",
       "    }\n",
       "\n",
       "    .dataframe thead th {\n",
       "        text-align: right;\n",
       "    }\n",
       "</style>\n",
       "<table border=\"1\" class=\"dataframe\">\n",
       "  <thead>\n",
       "    <tr style=\"text-align: right;\">\n",
       "      <th></th>\n",
       "      <th>Release Year</th>\n",
       "      <th>Count of Movies Released</th>\n",
       "    </tr>\n",
       "  </thead>\n",
       "  <tbody>\n",
       "    <tr>\n",
       "      <th>0</th>\n",
       "      <td>2016</td>\n",
       "      <td>297</td>\n",
       "    </tr>\n",
       "    <tr>\n",
       "      <th>1</th>\n",
       "      <td>2015</td>\n",
       "      <td>127</td>\n",
       "    </tr>\n",
       "    <tr>\n",
       "      <th>2</th>\n",
       "      <td>2014</td>\n",
       "      <td>98</td>\n",
       "    </tr>\n",
       "    <tr>\n",
       "      <th>3</th>\n",
       "      <td>2013</td>\n",
       "      <td>91</td>\n",
       "    </tr>\n",
       "    <tr>\n",
       "      <th>4</th>\n",
       "      <td>2012</td>\n",
       "      <td>64</td>\n",
       "    </tr>\n",
       "    <tr>\n",
       "      <th>5</th>\n",
       "      <td>2011</td>\n",
       "      <td>63</td>\n",
       "    </tr>\n",
       "    <tr>\n",
       "      <th>6</th>\n",
       "      <td>2010</td>\n",
       "      <td>60</td>\n",
       "    </tr>\n",
       "    <tr>\n",
       "      <th>7</th>\n",
       "      <td>2007</td>\n",
       "      <td>53</td>\n",
       "    </tr>\n",
       "    <tr>\n",
       "      <th>8</th>\n",
       "      <td>2008</td>\n",
       "      <td>52</td>\n",
       "    </tr>\n",
       "    <tr>\n",
       "      <th>9</th>\n",
       "      <td>2009</td>\n",
       "      <td>51</td>\n",
       "    </tr>\n",
       "    <tr>\n",
       "      <th>10</th>\n",
       "      <td>2006</td>\n",
       "      <td>44</td>\n",
       "    </tr>\n",
       "  </tbody>\n",
       "</table>\n",
       "</div>"
      ],
      "text/plain": [
       "    Release Year  Count of Movies Released\n",
       "0           2016                       297\n",
       "1           2015                       127\n",
       "2           2014                        98\n",
       "3           2013                        91\n",
       "4           2012                        64\n",
       "5           2011                        63\n",
       "6           2010                        60\n",
       "7           2007                        53\n",
       "8           2008                        52\n",
       "9           2009                        51\n",
       "10          2006                        44"
      ]
     },
     "execution_count": 9,
     "metadata": {},
     "output_type": "execute_result"
    }
   ],
   "source": [
    "from mysql.connector import connect, Error\n",
    "\n",
    "try:\n",
    "    with connect(host=\"lab-assignment-225.cibzfcia066j.us-east-1.rds.amazonaws.com\",\n",
    "                 user=usrnm,\n",
    "                 password=pwd,\n",
    "                 database=\"sjsu_movie_db\"\n",
    "    ) as connection:\n",
    "        sql2 = \"select year,count(*) from Movie_data group by Year order by count(*) desc;;\"\n",
    "        with connection.cursor() as cur2:\n",
    "            cur2.execute(sql2)\n",
    "            Year_movie_count = pd. DataFrame (cur2. fetchall ())\n",
    "except Error as e:\n",
    "    print(e)\n",
    "\n",
    "Year_movie_count.columns =['Release Year','Count of Movies Released'] \n",
    "Year_movie_count"
   ]
  },
  {
   "cell_type": "code",
   "execution_count": 10,
   "metadata": {
    "scrolled": true
   },
   "outputs": [
    {
     "data": {
      "image/png": "[encoded data removed]",
      "text/plain": [
       "<Figure size 576x216 with 1 Axes>"
      ]
     },
     "metadata": {},
     "output_type": "display_data"
    }
   ],
   "source": [
    "ax=Year_movie_count.groupby(['Release Year']).sum().plot(kind='pie', y='Count of Movies Released', autopct='%1.0f%%',\n",
    "                                title='Count of movies released per year')\n",
    "ax.set_axis_off()\n",
    "ax = plt.gca()\n",
    "ax=plt.legend(bbox_to_anchor=(1.1, 1.1), bbox_transform=ax.transAxes)"
   ]
  },
  {
   "cell_type": "markdown",
   "metadata": {},
   "source": [
    "### SQL Query 3:"
   ]
  },
  {
   "cell_type": "markdown",
   "metadata": {},
   "source": [
    "#### Ranking the Top 5 Employees who has responded to the most complaints"
   ]
  },
  {
   "cell_type": "code",
   "execution_count": 11,
   "metadata": {
    "scrolled": true
   },
   "outputs": [
    {
     "data": {
      "text/html": [
       "<div>\n",
       "<style scoped>\n",
       "    .dataframe tbody tr th:only-of-type {\n",
       "        vertical-align: middle;\n",
       "    }\n",
       "\n",
       "    .dataframe tbody tr th {\n",
       "        vertical-align: top;\n",
       "    }\n",
       "\n",
       "    .dataframe thead th {\n",
       "        text-align: right;\n",
       "    }\n",
       "</style>\n",
       "<table border=\"1\" class=\"dataframe\">\n",
       "  <thead>\n",
       "    <tr style=\"text-align: right;\">\n",
       "      <th></th>\n",
       "      <th>Employee ID</th>\n",
       "      <th>Employee Name</th>\n",
       "      <th>Total complaints resolved</th>\n",
       "    </tr>\n",
       "  </thead>\n",
       "  <tbody>\n",
       "    <tr>\n",
       "      <th>0</th>\n",
       "      <td>512211915</td>\n",
       "      <td>Ndzi Samuel Colombui</td>\n",
       "      <td>13</td>\n",
       "    </tr>\n",
       "    <tr>\n",
       "      <th>1</th>\n",
       "      <td>521004885</td>\n",
       "      <td>Johnston Kylo Yen</td>\n",
       "      <td>10</td>\n",
       "    </tr>\n",
       "    <tr>\n",
       "      <th>2</th>\n",
       "      <td>291255019</td>\n",
       "      <td>Gilles Denisa  S Alex</td>\n",
       "      <td>10</td>\n",
       "    </tr>\n",
       "    <tr>\n",
       "      <th>3</th>\n",
       "      <td>283386581</td>\n",
       "      <td>Gerke Alejandro  Melisa</td>\n",
       "      <td>10</td>\n",
       "    </tr>\n",
       "    <tr>\n",
       "      <th>4</th>\n",
       "      <td>615036329</td>\n",
       "      <td>Veera Jane Abdellah</td>\n",
       "      <td>10</td>\n",
       "    </tr>\n",
       "  </tbody>\n",
       "</table>\n",
       "</div>"
      ],
      "text/plain": [
       "  Employee ID            Employee Name  Total complaints resolved\n",
       "0   512211915     Ndzi Samuel Colombui                         13\n",
       "1   521004885        Johnston Kylo Yen                         10\n",
       "2   291255019    Gilles Denisa  S Alex                         10\n",
       "3   283386581  Gerke Alejandro  Melisa                         10\n",
       "4   615036329     Veera Jane Abdellah                          10"
      ]
     },
     "execution_count": 11,
     "metadata": {},
     "output_type": "execute_result"
    }
   ],
   "source": [
    "from mysql.connector import connect, Error\n",
    "\n",
    "try:\n",
    "    with connect(host=\"lab-assignment-225.cibzfcia066j.us-east-1.rds.amazonaws.com\",\n",
    "                 user=usrnm,\n",
    "                 password=pwd,\n",
    "                 database=\"sjsu_movie_db\"\n",
    "    ) as connection:\n",
    "        sql3 =\"\"\"\\\n",
    "            SELECT c.emp_id,CONCAT(e.emp_first_name,'',e.emp_middle_name,'',e.emp_last_name) AS 'Employee Name',\n",
    "            COUNT(complaint_id)\n",
    "            FROM cust_complaints c JOIN employees e USING(emp_id) GROUP BY c.emp_id ORDER BY\n",
    "             count(complaint_id) DESC LIMIT 5;\n",
    "            \"\"\"\n",
    "        with connection.cursor() as cur3:\n",
    "            cur3.execute(sql3)\n",
    "            top_5_employee = pd. DataFrame (cur3. fetchall ())\n",
    "except Error as e:\n",
    "    print(e)\n",
    "\n",
    "    \n",
    "top_5_employee.columns =['Employee ID','Employee Name','Total complaints resolved'] \n",
    "top_5_employee"
   ]
  },
  {
   "cell_type": "code",
   "execution_count": 12,
   "metadata": {
    "scrolled": true
   },
   "outputs": [
    {
     "data": {
      "image/png": "[encoded data removed]",
      "text/plain": [
       "<Figure size 432x360 with 1 Axes>"
      ]
     },
     "metadata": {},
     "output_type": "display_data"
    }
   ],
   "source": [
    "plt.figure(figsize=(6,5))\n",
    "plot = sns.barplot(y='Employee Name',x = 'Total complaints resolved',data=top_5_employee)\n",
    "plot.set_title('Top five employees',fontweight = 'bold',fontsize = 12)\n",
    "plot.set_ylabel('')\n",
    "plot.set_xlabel('Complaints resolved',fontweight = 'bold',fontsize = 10)\n",
    "plot.bar_label(plot.containers[0],color='r',fontweight='bold')\n",
    "plt.show()"
   ]
  },
  {
   "cell_type": "markdown",
   "metadata": {},
   "source": [
    "### SQL Query 4:"
   ]
  },
  {
   "cell_type": "markdown",
   "metadata": {},
   "source": [
    "Average time taken taken to close a ticket."
   ]
  },
  {
   "cell_type": "code",
   "execution_count": 13,
   "metadata": {},
   "outputs": [
    {
     "name": "stdout",
     "output_type": "stream",
     "text": [
      "Average Time Taken:\t 3.3673  DAYS.\n"
     ]
    }
   ],
   "source": [
    "from mysql.connector import connect, Error\n",
    "\n",
    "try:\n",
    "    with connect(host=\"lab-assignment-225.cibzfcia066j.us-east-1.rds.amazonaws.com\",\n",
    "                 user=usrnm,\n",
    "                 password=pwd,\n",
    "                 database=\"sjsu_movie_db\"\n",
    "    ) as connection:\n",
    "        sql4 = \"\"\"select \n",
    "        sum(datediff(close_date,complaint_creation_date))/count(datediff(close_date,complaint_creation_date)) \n",
    "        as Avg_days_taken\n",
    "        from cust_complaints where resolution_status='Closed' \n",
    "        order by datediff(close_date,complaint_creation_date) desc;\"\"\"\n",
    "        with connection.cursor() as cur4:\n",
    "            cur4.execute(sql4)\n",
    "            avg_time=cur4. fetchone ()\n",
    "            print(\"Average Time Taken:\\t\",avg_time[0],\" DAYS.\")\n",
    "except Error as e:\n",
    "    print(e)"
   ]
  },
  {
   "cell_type": "markdown",
   "metadata": {},
   "source": [
    "### SQL Query 5:"
   ]
  },
  {
   "cell_type": "markdown",
   "metadata": {},
   "source": [
    "#### TOP 10 Most watched movies in USA UK and Canada"
   ]
  },
  {
   "cell_type": "code",
   "execution_count": 14,
   "metadata": {},
   "outputs": [],
   "source": [
    "from mysql.connector import connect, Error\n",
    "\n",
    "try:\n",
    "    with connect(host=\"lab-assignment-225.cibzfcia066j.us-east-1.rds.amazonaws.com\",\n",
    "                 user=usrnm,\n",
    "                 password=pwd,\n",
    "                 database=\"sjsu_movie_db\"\n",
    "    ) as connection:\n",
    "        sql5 = \"\"\"select c.cust_country,m.title,count(u.rank_id) as times_watched from user_watch_history u \n",
    "        join Movie_data m on u.rank_id=m.rank_id join user_details ud on ud.user_id=u.user_id \n",
    "        join customer_details c on c.customer_id=ud.customer_id \n",
    "        group by c.cust_country,m.title order by cust_country,count(rank_id) desc;\"\"\"\n",
    "        with connection.cursor() as cur5:\n",
    "            cur5.execute(sql5)\n",
    "            top_10_movies_country_wise = pd. DataFrame (cur5. fetchall ())\n",
    "except Error as e:\n",
    "    print(e)"
   ]
  },
  {
   "cell_type": "code",
   "execution_count": 15,
   "metadata": {},
   "outputs": [
    {
     "data": {
      "text/plain": [
       "array(['Canada', 'United Kingdom', 'USA'], dtype=object)"
      ]
     },
     "execution_count": 15,
     "metadata": {},
     "output_type": "execute_result"
    }
   ],
   "source": [
    "top_10_movies_country_wise.columns =['Country','Title','Times Watched'] \n",
    "top_10_movies_country_wise.Country.unique()\n"
   ]
  },
  {
   "cell_type": "code",
   "execution_count": 16,
   "metadata": {},
   "outputs": [],
   "source": [
    "movie_array=top_10_movies_country_wise.to_numpy()\n",
    "canada_array=[]\n",
    "UK_array=[]\n",
    "USA_array=[]\n",
    "for i in movie_array:\n",
    "    if i[0]=='Canada':\n",
    "        canada_array.append(i)\n",
    "    elif i[0]=='United Kingdom':\n",
    "        UK_array.append(i)\n",
    "    elif i[0]=='USA':\n",
    "        USA_array.append(i)\n",
    "\n",
    "Canada_df = pd.DataFrame (canada_array, columns= ['Country', 'title','Times Watched'])\n",
    "UK_df = pd.DataFrame (UK_array, columns= ['Country', 'title','Times Watched'])\n",
    "USA_df = pd.DataFrame (USA_array, columns= ['Country', 'title','Times Watched'])\n",
    "    "
   ]
  },
  {
   "cell_type": "code",
   "execution_count": 17,
   "metadata": {},
   "outputs": [],
   "source": [
    "sorted_USA = USA_df.sort_values(by='Times Watched', ascending=False)\n",
    "sorted_UK = UK_df.sort_values(by='Times Watched', ascending=False)\n",
    "sorted_Canada = Canada_df.sort_values(by='Times Watched', ascending=False)"
   ]
  },
  {
   "cell_type": "code",
   "execution_count": 18,
   "metadata": {},
   "outputs": [],
   "source": [
    "USA_Top_10=sorted_USA.head(10)\n",
    "UK_Top_10=sorted_UK.head(10)\n",
    "Canada_Top_10=sorted_Canada.head(10)"
   ]
  },
  {
   "cell_type": "code",
   "execution_count": 19,
   "metadata": {},
   "outputs": [],
   "source": [
    "uk_top_10_movies=[]\n",
    "usa_top_10_movies=[]\n",
    "canada_top_10_movies=[]\n",
    "uk_top_10_movies=UK_Top_10['title'].to_numpy()\n",
    "usa_top_10_movies=USA_Top_10['title'].to_numpy()\n",
    "canada_top_10_movies=Canada_Top_10['title'].to_numpy()\n"
   ]
  },
  {
   "cell_type": "code",
   "execution_count": 20,
   "metadata": {},
   "outputs": [
    {
     "data": {
      "text/html": [
       "<div>\n",
       "<style scoped>\n",
       "    .dataframe tbody tr th:only-of-type {\n",
       "        vertical-align: middle;\n",
       "    }\n",
       "\n",
       "    .dataframe tbody tr th {\n",
       "        vertical-align: top;\n",
       "    }\n",
       "\n",
       "    .dataframe thead th {\n",
       "        text-align: right;\n",
       "    }\n",
       "</style>\n",
       "<table border=\"1\" class=\"dataframe\">\n",
       "  <thead>\n",
       "    <tr style=\"text-align: right;\">\n",
       "      <th></th>\n",
       "      <th>USA</th>\n",
       "      <th>UK</th>\n",
       "      <th>Canada</th>\n",
       "    </tr>\n",
       "  </thead>\n",
       "  <tbody>\n",
       "    <tr>\n",
       "      <th>0</th>\n",
       "      <td>The Host</td>\n",
       "      <td>Rio</td>\n",
       "      <td>This Beautiful Fantastic</td>\n",
       "    </tr>\n",
       "    <tr>\n",
       "      <th>1</th>\n",
       "      <td>The Visit</td>\n",
       "      <td>Total Recall</td>\n",
       "      <td>The Magnificent Seven</td>\n",
       "    </tr>\n",
       "    <tr>\n",
       "      <th>2</th>\n",
       "      <td>The Blackcoat's Daughter</td>\n",
       "      <td>Selma</td>\n",
       "      <td>Evil Dead</td>\n",
       "    </tr>\n",
       "    <tr>\n",
       "      <th>3</th>\n",
       "      <td>A Million Ways to Die in the West</td>\n",
       "      <td>Warcraft</td>\n",
       "      <td>Sleeping with Other People</td>\n",
       "    </tr>\n",
       "    <tr>\n",
       "      <th>4</th>\n",
       "      <td>Blackhat</td>\n",
       "      <td>Friend Request</td>\n",
       "      <td>Carrie</td>\n",
       "    </tr>\n",
       "    <tr>\n",
       "      <th>5</th>\n",
       "      <td>Guardians of the Galaxy</td>\n",
       "      <td>The Headhunter's Calling</td>\n",
       "      <td>Bridge of Spies</td>\n",
       "    </tr>\n",
       "    <tr>\n",
       "      <th>6</th>\n",
       "      <td>Red Dawn</td>\n",
       "      <td>The Ugly Truth</td>\n",
       "      <td>The Boss</td>\n",
       "    </tr>\n",
       "    <tr>\n",
       "      <th>7</th>\n",
       "      <td>Mindhorn</td>\n",
       "      <td>Now You See Me 2</td>\n",
       "      <td>Everest</td>\n",
       "    </tr>\n",
       "    <tr>\n",
       "      <th>8</th>\n",
       "      <td>Silver Linings Playbook</td>\n",
       "      <td>American Pastoral</td>\n",
       "      <td>The Skin I Live In</td>\n",
       "    </tr>\n",
       "    <tr>\n",
       "      <th>9</th>\n",
       "      <td>Oculus</td>\n",
       "      <td>Pompeii</td>\n",
       "      <td>The Happening</td>\n",
       "    </tr>\n",
       "  </tbody>\n",
       "</table>\n",
       "</div>"
      ],
      "text/plain": [
       "                                 USA                        UK  \\\n",
       "0                           The Host                       Rio   \n",
       "1                          The Visit              Total Recall   \n",
       "2           The Blackcoat's Daughter                     Selma   \n",
       "3  A Million Ways to Die in the West                  Warcraft   \n",
       "4                           Blackhat            Friend Request   \n",
       "5            Guardians of the Galaxy  The Headhunter's Calling   \n",
       "6                           Red Dawn            The Ugly Truth   \n",
       "7                           Mindhorn          Now You See Me 2   \n",
       "8            Silver Linings Playbook         American Pastoral   \n",
       "9                             Oculus                   Pompeii   \n",
       "\n",
       "                       Canada  \n",
       "0    This Beautiful Fantastic  \n",
       "1       The Magnificent Seven  \n",
       "2                   Evil Dead  \n",
       "3  Sleeping with Other People  \n",
       "4                      Carrie  \n",
       "5             Bridge of Spies  \n",
       "6                    The Boss  \n",
       "7                     Everest  \n",
       "8          The Skin I Live In  \n",
       "9               The Happening  "
      ]
     },
     "execution_count": 20,
     "metadata": {},
     "output_type": "execute_result"
    }
   ],
   "source": [
    "top_10_movies=pd.DataFrame()\n",
    "top_10_movies['USA']=usa_top_10_movies\n",
    "top_10_movies['UK']=uk_top_10_movies\n",
    "top_10_movies['Canada']=canada_top_10_movies\n",
    "top_10_movies.head(10)"
   ]
  },
  {
   "cell_type": "markdown",
   "metadata": {},
   "source": [
    "### SQL Query 6:"
   ]
  },
  {
   "cell_type": "markdown",
   "metadata": {},
   "source": [
    "#### Display how many screens are used by customers on average"
   ]
  },
  {
   "cell_type": "code",
   "execution_count": 21,
   "metadata": {},
   "outputs": [
    {
     "name": "stdout",
     "output_type": "stream",
     "text": [
      "Average No of Screens used by customers:\t 3  Screens.\n"
     ]
    }
   ],
   "source": [
    "from mysql.connector import connect, Error\n",
    "\n",
    "try:\n",
    "    with connect(host=\"lab-assignment-225.cibzfcia066j.us-east-1.rds.amazonaws.com\",\n",
    "                 user=usrnm,\n",
    "                 password=pwd,\n",
    "                 database=\"sjsu_movie_db\"\n",
    "    ) as connection:\n",
    "        sql6 = \"\"\"select round(sum(no_of_screens)/count(no_of_screens)) as avg_screens from \n",
    "        (select customer_id,count(*) as 'no_of_screens' from user_details group by customer_id \n",
    "        order by customer_id asc) t1;\"\"\"\n",
    "        with connection.cursor() as cur6:\n",
    "            cur6.execute(sql6)\n",
    "            avg_screens=cur6. fetchone ()\n",
    "            print(\"Average No of Screens used by customers:\\t\",avg_screens[0],\" Screens.\")\n",
    "except Error as e:\n",
    "    print(e)"
   ]
  },
  {
   "cell_type": "markdown",
   "metadata": {},
   "source": [
    "### SQL Query 7:"
   ]
  },
  {
   "cell_type": "markdown",
   "metadata": {},
   "source": [
    "#### Display the Total No of complaints recorded grouped by Complaint Category"
   ]
  },
  {
   "cell_type": "code",
   "execution_count": 22,
   "metadata": {},
   "outputs": [
    {
     "data": {
      "text/html": [
       "<div>\n",
       "<style scoped>\n",
       "    .dataframe tbody tr th:only-of-type {\n",
       "        vertical-align: middle;\n",
       "    }\n",
       "\n",
       "    .dataframe tbody tr th {\n",
       "        vertical-align: top;\n",
       "    }\n",
       "\n",
       "    .dataframe thead th {\n",
       "        text-align: right;\n",
       "    }\n",
       "</style>\n",
       "<table border=\"1\" class=\"dataframe\">\n",
       "  <thead>\n",
       "    <tr style=\"text-align: right;\">\n",
       "      <th></th>\n",
       "      <th>Complaint Category</th>\n",
       "      <th>No of Complaints recorded</th>\n",
       "    </tr>\n",
       "  </thead>\n",
       "  <tbody>\n",
       "    <tr>\n",
       "      <th>0</th>\n",
       "      <td>Account issue</td>\n",
       "      <td>48</td>\n",
       "    </tr>\n",
       "    <tr>\n",
       "      <th>1</th>\n",
       "      <td>Login issue</td>\n",
       "      <td>52</td>\n",
       "    </tr>\n",
       "    <tr>\n",
       "      <th>2</th>\n",
       "      <td>Video quality issue</td>\n",
       "      <td>59</td>\n",
       "    </tr>\n",
       "    <tr>\n",
       "      <th>3</th>\n",
       "      <td>Payment issue</td>\n",
       "      <td>62</td>\n",
       "    </tr>\n",
       "    <tr>\n",
       "      <th>4</th>\n",
       "      <td>Audio quality issue</td>\n",
       "      <td>79</td>\n",
       "    </tr>\n",
       "  </tbody>\n",
       "</table>\n",
       "</div>"
      ],
      "text/plain": [
       "    Complaint Category  No of Complaints recorded\n",
       "0        Account issue                         48\n",
       "1          Login issue                         52\n",
       "2  Video quality issue                         59\n",
       "3        Payment issue                         62\n",
       "4  Audio quality issue                         79"
      ]
     },
     "execution_count": 22,
     "metadata": {},
     "output_type": "execute_result"
    }
   ],
   "source": [
    "from mysql.connector import connect, Error\n",
    "\n",
    "try:\n",
    "    with connect(host=\"lab-assignment-225.cibzfcia066j.us-east-1.rds.amazonaws.com\",\n",
    "                 user=usrnm,\n",
    "                 password=pwd,\n",
    "                 database=\"sjsu_movie_db\"\n",
    "    ) as connection:\n",
    "        sql7 = \"\"\"\n",
    "        select complaint_category,count(*) as 'Number of Complaints'\n",
    "        from cust_complaints \n",
    "        group by complaint_category \n",
    "        order by count(*) asc;\"\"\"\n",
    "        with connection.cursor() as cur7:\n",
    "            cur7.execute(sql7)\n",
    "            count_complaint_category = pd. DataFrame (cur7. fetchall ())\n",
    "except Error as e:\n",
    "    print(e)\n",
    "\n",
    "    \n",
    "count_complaint_category.columns =['Complaint Category','No of Complaints recorded'] \n",
    "count_complaint_category"
   ]
  },
  {
   "cell_type": "code",
   "execution_count": 23,
   "metadata": {
    "scrolled": true
   },
   "outputs": [
    {
     "data": {
      "image/png": "[encoded data removed]",
      "text/plain": [
       "<Figure size 576x216 with 1 Axes>"
      ]
     },
     "metadata": {},
     "output_type": "display_data"
    }
   ],
   "source": [
    "plt.title('NO OF COMPLAINTS PER CATEGORY', size=16,color='BLACK')\n",
    "sns.set(rc = {'figure.figsize':(8,4)})\n",
    "g = sns.barplot(x = 'Complaint Category', y = 'No of Complaints recorded',data=count_complaint_category)\n",
    "ax=g.bar_label(g.containers[0])"
   ]
  },
  {
   "cell_type": "markdown",
   "metadata": {},
   "source": [
    "### SQL Query 8:"
   ]
  },
  {
   "cell_type": "markdown",
   "metadata": {},
   "source": [
    "#### Display the Total No of Complaints Closed Per Month"
   ]
  },
  {
   "cell_type": "code",
   "execution_count": 24,
   "metadata": {
    "scrolled": true
   },
   "outputs": [
    {
     "data": {
      "text/html": [
       "<div>\n",
       "<style scoped>\n",
       "    .dataframe tbody tr th:only-of-type {\n",
       "        vertical-align: middle;\n",
       "    }\n",
       "\n",
       "    .dataframe tbody tr th {\n",
       "        vertical-align: top;\n",
       "    }\n",
       "\n",
       "    .dataframe thead th {\n",
       "        text-align: right;\n",
       "    }\n",
       "</style>\n",
       "<table border=\"1\" class=\"dataframe\">\n",
       "  <thead>\n",
       "    <tr style=\"text-align: right;\">\n",
       "      <th></th>\n",
       "      <th>Month</th>\n",
       "      <th>No of Complaints Closed</th>\n",
       "    </tr>\n",
       "  </thead>\n",
       "  <tbody>\n",
       "    <tr>\n",
       "      <th>0</th>\n",
       "      <td>January</td>\n",
       "      <td>61</td>\n",
       "    </tr>\n",
       "    <tr>\n",
       "      <th>1</th>\n",
       "      <td>February</td>\n",
       "      <td>86</td>\n",
       "    </tr>\n",
       "  </tbody>\n",
       "</table>\n",
       "</div>"
      ],
      "text/plain": [
       "      Month  No of Complaints Closed\n",
       "0   January                       61\n",
       "1  February                       86"
      ]
     },
     "execution_count": 24,
     "metadata": {},
     "output_type": "execute_result"
    }
   ],
   "source": [
    "from mysql.connector import connect, Error\n",
    "\n",
    "try:\n",
    "    with connect(host=\"lab-assignment-225.cibzfcia066j.us-east-1.rds.amazonaws.com\",\n",
    "                 user=usrnm,\n",
    "                 password=pwd,\n",
    "                 database=\"sjsu_movie_db\"\n",
    "    ) as connection:\n",
    "        sql8 = \"\"\"select monthname(close_date) as closed_month,count(*) from cust_complaints \n",
    "        where resolution_status='Closed' group by month(close_date) order by month(close_date) asc;\"\"\"\n",
    "        with connection.cursor() as cur8:\n",
    "            cur8.execute(sql8)\n",
    "            tickets_closed = pd. DataFrame (cur8. fetchall ())\n",
    "except Error as e:\n",
    "    print(e)\n",
    "    \n",
    "tickets_closed.columns =['Month','No of Complaints Closed'] \n",
    "tickets_closed"
   ]
  },
  {
   "cell_type": "code",
   "execution_count": 25,
   "metadata": {},
   "outputs": [
    {
     "data": {
      "image/png": "[encoded data removed]",
      "text/plain": [
       "<Figure size 432x432 with 1 Axes>"
      ]
     },
     "metadata": {},
     "output_type": "display_data"
    }
   ],
   "source": [
    "plt.figure(figsize=(6,6))\n",
    "plot = sns.barplot(x='Month',y = 'No of Complaints Closed',data=tickets_closed)\n",
    "plot.set_title('COMPLAINTS CLOSED PER MONTH',fontweight = 'bold',fontsize = 12)\n",
    "plot.set_xlabel('Month',fontweight = 'bold',fontsize = 10)\n",
    "plot.set_ylabel('Complaints resolved',fontweight = 'bold',fontsize = 10)\n",
    "plot.bar_label(plot.containers[0],color='r',fontweight='bold')\n",
    "plt.show()"
   ]
  },
  {
   "cell_type": "markdown",
   "metadata": {},
   "source": [
    "### SQL Query 9:"
   ]
  },
  {
   "cell_type": "markdown",
   "metadata": {},
   "source": [
    "#### Display the Total Payments Made Per Month"
   ]
  },
  {
   "cell_type": "code",
   "execution_count": 26,
   "metadata": {
    "scrolled": false
   },
   "outputs": [
    {
     "data": {
      "text/html": [
       "<div>\n",
       "<style scoped>\n",
       "    .dataframe tbody tr th:only-of-type {\n",
       "        vertical-align: middle;\n",
       "    }\n",
       "\n",
       "    .dataframe tbody tr th {\n",
       "        vertical-align: top;\n",
       "    }\n",
       "\n",
       "    .dataframe thead th {\n",
       "        text-align: right;\n",
       "    }\n",
       "</style>\n",
       "<table border=\"1\" class=\"dataframe\">\n",
       "  <thead>\n",
       "    <tr style=\"text-align: right;\">\n",
       "      <th></th>\n",
       "      <th>Payment Month</th>\n",
       "      <th>Amount</th>\n",
       "    </tr>\n",
       "  </thead>\n",
       "  <tbody>\n",
       "    <tr>\n",
       "      <th>0</th>\n",
       "      <td>April, 21</td>\n",
       "      <td>1556.10</td>\n",
       "    </tr>\n",
       "    <tr>\n",
       "      <th>1</th>\n",
       "      <td>August, 21</td>\n",
       "      <td>1576.05</td>\n",
       "    </tr>\n",
       "    <tr>\n",
       "      <th>2</th>\n",
       "      <td>December, 21</td>\n",
       "      <td>1596.00</td>\n",
       "    </tr>\n",
       "    <tr>\n",
       "      <th>3</th>\n",
       "      <td>February, 21</td>\n",
       "      <td>1416.45</td>\n",
       "    </tr>\n",
       "    <tr>\n",
       "      <th>4</th>\n",
       "      <td>January, 21</td>\n",
       "      <td>1815.45</td>\n",
       "    </tr>\n",
       "    <tr>\n",
       "      <th>5</th>\n",
       "      <td>July, 21</td>\n",
       "      <td>1835.40</td>\n",
       "    </tr>\n",
       "    <tr>\n",
       "      <th>6</th>\n",
       "      <td>June, 21</td>\n",
       "      <td>1755.60</td>\n",
       "    </tr>\n",
       "    <tr>\n",
       "      <th>7</th>\n",
       "      <td>March, 21</td>\n",
       "      <td>1895.25</td>\n",
       "    </tr>\n",
       "    <tr>\n",
       "      <th>8</th>\n",
       "      <td>May, 21</td>\n",
       "      <td>1576.05</td>\n",
       "    </tr>\n",
       "    <tr>\n",
       "      <th>9</th>\n",
       "      <td>November, 21</td>\n",
       "      <td>1615.95</td>\n",
       "    </tr>\n",
       "    <tr>\n",
       "      <th>10</th>\n",
       "      <td>October, 21</td>\n",
       "      <td>1695.75</td>\n",
       "    </tr>\n",
       "    <tr>\n",
       "      <th>11</th>\n",
       "      <td>September, 21</td>\n",
       "      <td>1615.95</td>\n",
       "    </tr>\n",
       "  </tbody>\n",
       "</table>\n",
       "</div>"
      ],
      "text/plain": [
       "    Payment Month   Amount\n",
       "0       April, 21  1556.10\n",
       "1      August, 21  1576.05\n",
       "2    December, 21  1596.00\n",
       "3    February, 21  1416.45\n",
       "4     January, 21  1815.45\n",
       "5        July, 21  1835.40\n",
       "6        June, 21  1755.60\n",
       "7       March, 21  1895.25\n",
       "8         May, 21  1576.05\n",
       "9    November, 21  1615.95\n",
       "10    October, 21  1695.75\n",
       "11  September, 21  1615.95"
      ]
     },
     "execution_count": 26,
     "metadata": {},
     "output_type": "execute_result"
    }
   ],
   "source": [
    "from mysql.connector import connect, Error\n",
    "\n",
    "try:\n",
    "    with connect(host=\"lab-assignment-225.cibzfcia066j.us-east-1.rds.amazonaws.com\",\n",
    "                 user=usrnm,\n",
    "                 password=pwd,\n",
    "                 database=\"sjsu_movie_db\"\n",
    "    ) as connection:\n",
    "        sql9 = \"\"\"SELECT DATE_FORMAT(payment_date, '%M, %y') AS payment_month, \n",
    "        sum(total_amount) AS payment_per_month FROM invoice_details \n",
    "        GROUP BY payment_month order by payment_month asc;\"\"\"\n",
    "        with connection.cursor() as cur9:\n",
    "            cur9.execute(sql9)\n",
    "            month_amount = pd. DataFrame (cur9. fetchall ())\n",
    "except Error as e:\n",
    "    print(e)\n",
    "    \n",
    "month_amount.columns =['Payment Month','Amount'] \n",
    "month_amount['Amount']=pd.to_numeric(month_amount['Amount'])\n",
    "month_amount"
   ]
  },
  {
   "cell_type": "code",
   "execution_count": 27,
   "metadata": {
    "scrolled": false
   },
   "outputs": [
    {
     "data": {
      "image/png": "[encoded data removed]",
      "text/plain": [
       "<Figure size 576x288 with 1 Axes>"
      ]
     },
     "metadata": {},
     "output_type": "display_data"
    }
   ],
   "source": [
    "ax=month_amount.groupby(['Payment Month']).sum().plot(kind='pie', y='Amount', autopct='%1.0f%%',\n",
    "                                title='Payment per month')\n",
    "ax.set_axis_off()\n",
    "ax = plt.gca()\n",
    "ax=plt.legend(bbox_to_anchor=(1.1, 1.1), bbox_transform=ax.transAxes)"
   ]
  },
  {
   "cell_type": "markdown",
   "metadata": {},
   "source": [
    "### SQL Query 10:"
   ]
  },
  {
   "cell_type": "markdown",
   "metadata": {},
   "source": [
    "#### Top 10 customers based on the number of movies watched"
   ]
  },
  {
   "cell_type": "code",
   "execution_count": 28,
   "metadata": {},
   "outputs": [
    {
     "data": {
      "text/html": [
       "<div>\n",
       "<style scoped>\n",
       "    .dataframe tbody tr th:only-of-type {\n",
       "        vertical-align: middle;\n",
       "    }\n",
       "\n",
       "    .dataframe tbody tr th {\n",
       "        vertical-align: top;\n",
       "    }\n",
       "\n",
       "    .dataframe thead th {\n",
       "        text-align: right;\n",
       "    }\n",
       "</style>\n",
       "<table border=\"1\" class=\"dataframe\">\n",
       "  <thead>\n",
       "    <tr style=\"text-align: right;\">\n",
       "      <th></th>\n",
       "      <th>Customer Name</th>\n",
       "      <th>No of Movies Watched</th>\n",
       "    </tr>\n",
       "  </thead>\n",
       "  <tbody>\n",
       "    <tr>\n",
       "      <th>0</th>\n",
       "      <td>Rodolfo Polidori</td>\n",
       "      <td>26</td>\n",
       "    </tr>\n",
       "    <tr>\n",
       "      <th>1</th>\n",
       "      <td>Adolph Hellickson</td>\n",
       "      <td>26</td>\n",
       "    </tr>\n",
       "    <tr>\n",
       "      <th>2</th>\n",
       "      <td>Tonja Sama</td>\n",
       "      <td>25</td>\n",
       "    </tr>\n",
       "    <tr>\n",
       "      <th>3</th>\n",
       "      <td>Santos Pelkowski</td>\n",
       "      <td>25</td>\n",
       "    </tr>\n",
       "    <tr>\n",
       "      <th>4</th>\n",
       "      <td>Jamal Bairo</td>\n",
       "      <td>24</td>\n",
       "    </tr>\n",
       "    <tr>\n",
       "      <th>5</th>\n",
       "      <td>Antonio Stoltzman</td>\n",
       "      <td>24</td>\n",
       "    </tr>\n",
       "    <tr>\n",
       "      <th>6</th>\n",
       "      <td>Elly Ferenz</td>\n",
       "      <td>24</td>\n",
       "    </tr>\n",
       "    <tr>\n",
       "      <th>7</th>\n",
       "      <td>Lynna Sweigard</td>\n",
       "      <td>23</td>\n",
       "    </tr>\n",
       "    <tr>\n",
       "      <th>8</th>\n",
       "      <td>Brock Mosseri</td>\n",
       "      <td>23</td>\n",
       "    </tr>\n",
       "    <tr>\n",
       "      <th>9</th>\n",
       "      <td>Carisa Toyama</td>\n",
       "      <td>23</td>\n",
       "    </tr>\n",
       "  </tbody>\n",
       "</table>\n",
       "</div>"
      ],
      "text/plain": [
       "       Customer Name  No of Movies Watched\n",
       "0   Rodolfo Polidori                    26\n",
       "1  Adolph Hellickson                    26\n",
       "2         Tonja Sama                    25\n",
       "3   Santos Pelkowski                    25\n",
       "4        Jamal Bairo                    24\n",
       "5  Antonio Stoltzman                    24\n",
       "6        Elly Ferenz                    24\n",
       "7     Lynna Sweigard                    23\n",
       "8      Brock Mosseri                    23\n",
       "9      Carisa Toyama                    23"
      ]
     },
     "execution_count": 28,
     "metadata": {},
     "output_type": "execute_result"
    }
   ],
   "source": [
    "from mysql.connector import connect, Error\n",
    "\n",
    "try:\n",
    "    with connect(host=\"lab-assignment-225.cibzfcia066j.us-east-1.rds.amazonaws.com\",\n",
    "                 user=usrnm,\n",
    "                 password=pwd,\n",
    "                 database=\"sjsu_movie_db\"\n",
    "    ) as connection:\n",
    "        sql10 = \"\"\"select concat(c.cust_first_name,' ',c.cust_last_name) as customer_name ,\n",
    "        count(*) as no_of_movies_watched from user_watch_history u \n",
    "        join user_details ud on u.user_id=ud.user_id \n",
    "        join customer_details c on c.customer_id=ud.customer_id \n",
    "        group by customer_name order by count(*) desc limit 10;\"\"\"\n",
    "        with connection.cursor() as cur10:\n",
    "            cur10.execute(sql10)\n",
    "            top_10_cust = pd. DataFrame (cur10. fetchall ())\n",
    "except Error as e:\n",
    "    print(e)\n",
    "    \n",
    "top_10_cust.columns =['Customer Name','No of Movies Watched'] \n",
    "top_10_cust"
   ]
  },
  {
   "cell_type": "code",
   "execution_count": 29,
   "metadata": {
    "scrolled": false
   },
   "outputs": [
    {
     "data": {
      "image/png": "[encoded data removed]",
      "text/plain": [
       "<Figure size 576x288 with 1 Axes>"
      ]
     },
     "metadata": {},
     "output_type": "display_data"
    }
   ],
   "source": [
    "plt.title('TOP 10 CUSTOMERS BASED ON MOVIES WATCHED', size=16,color='BLACK')\n",
    "sns.set(rc = {'figure.figsize':(20,5)})\n",
    "g = sns.barplot(x = 'Customer Name', y = 'No of Movies Watched',data=top_10_cust)\n",
    "ax=g.bar_label(g.containers[0])"
   ]
  },
  {
   "cell_type": "markdown",
   "metadata": {},
   "source": [
    "### SQL Query 11:"
   ]
  },
  {
   "cell_type": "markdown",
   "metadata": {},
   "source": [
    "#### Top 5 directors based on user watch history"
   ]
  },
  {
   "cell_type": "code",
   "execution_count": 30,
   "metadata": {},
   "outputs": [
    {
     "data": {
      "text/html": [
       "<div>\n",
       "<style scoped>\n",
       "    .dataframe tbody tr th:only-of-type {\n",
       "        vertical-align: middle;\n",
       "    }\n",
       "\n",
       "    .dataframe tbody tr th {\n",
       "        vertical-align: top;\n",
       "    }\n",
       "\n",
       "    .dataframe thead th {\n",
       "        text-align: right;\n",
       "    }\n",
       "</style>\n",
       "<table border=\"1\" class=\"dataframe\">\n",
       "  <thead>\n",
       "    <tr style=\"text-align: right;\">\n",
       "      <th></th>\n",
       "      <th>Director Name</th>\n",
       "      <th>Total Movies watched by customers</th>\n",
       "    </tr>\n",
       "  </thead>\n",
       "  <tbody>\n",
       "    <tr>\n",
       "      <th>0</th>\n",
       "      <td>Seth MacFarlane</td>\n",
       "      <td>18</td>\n",
       "    </tr>\n",
       "    <tr>\n",
       "      <th>1</th>\n",
       "      <td>Simon Aboud</td>\n",
       "      <td>17</td>\n",
       "    </tr>\n",
       "    <tr>\n",
       "      <th>2</th>\n",
       "      <td>Darren Aronofsky</td>\n",
       "      <td>17</td>\n",
       "    </tr>\n",
       "    <tr>\n",
       "      <th>3</th>\n",
       "      <td>M. Night Shyamalan</td>\n",
       "      <td>17</td>\n",
       "    </tr>\n",
       "    <tr>\n",
       "      <th>4</th>\n",
       "      <td>Steven Spielberg</td>\n",
       "      <td>16</td>\n",
       "    </tr>\n",
       "  </tbody>\n",
       "</table>\n",
       "</div>"
      ],
      "text/plain": [
       "        Director Name  Total Movies watched by customers\n",
       "0     Seth MacFarlane                                 18\n",
       "1         Simon Aboud                                 17\n",
       "2    Darren Aronofsky                                 17\n",
       "3  M. Night Shyamalan                                 17\n",
       "4    Steven Spielberg                                 16"
      ]
     },
     "execution_count": 30,
     "metadata": {},
     "output_type": "execute_result"
    }
   ],
   "source": [
    "from mysql.connector import connect, Error\n",
    "\n",
    "try:\n",
    "    with connect(host=\"lab-assignment-225.cibzfcia066j.us-east-1.rds.amazonaws.com\",\n",
    "                 user=usrnm,\n",
    "                 password=pwd,\n",
    "                 database=\"sjsu_movie_db\"\n",
    "    ) as connection:\n",
    "        sql11 = \"\"\"select m.director, count(*) from user_watch_history u join Movie_data m on m.rank_id=u.rank_id \n",
    "        group by u.rank_id,director order by count(*) desc limit 5; \"\"\"\n",
    "        with connection.cursor() as cur11:\n",
    "            cur11.execute(sql11)\n",
    "            top_5_directors = pd. DataFrame (cur11. fetchall ())\n",
    "except Error as e:\n",
    "    print(e)\n",
    "    \n",
    "top_5_directors.columns =['Director Name','Total Movies watched by customers'] \n",
    "top_5_directors"
   ]
  },
  {
   "cell_type": "code",
   "execution_count": 31,
   "metadata": {
    "scrolled": true
   },
   "outputs": [
    {
     "data": {
      "image/png": "[encoded data removed]",
      "text/plain": [
       "<Figure size 1440x360 with 1 Axes>"
      ]
     },
     "metadata": {},
     "output_type": "display_data"
    }
   ],
   "source": [
    "plt.title('TOP 5 DIRECTORS BASED ON WATCH HISTORY', size=16,color='BLACK')\n",
    "sns.set(rc = {'figure.figsize':(20,5)})\n",
    "g = sns.barplot(x = 'Director Name', y = 'Total Movies watched by customers',data=top_5_directors)\n",
    "ax=g.bar_label(g.containers[0])"
   ]
  },
  {
   "cell_type": "markdown",
   "metadata": {},
   "source": [
    "### SQL Query 12:"
   ]
  },
  {
   "cell_type": "markdown",
   "metadata": {},
   "source": [
    "#### Total no of Complaints based on severity"
   ]
  },
  {
   "cell_type": "code",
   "execution_count": 32,
   "metadata": {},
   "outputs": [
    {
     "data": {
      "text/html": [
       "<div>\n",
       "<style scoped>\n",
       "    .dataframe tbody tr th:only-of-type {\n",
       "        vertical-align: middle;\n",
       "    }\n",
       "\n",
       "    .dataframe tbody tr th {\n",
       "        vertical-align: top;\n",
       "    }\n",
       "\n",
       "    .dataframe thead th {\n",
       "        text-align: right;\n",
       "    }\n",
       "</style>\n",
       "<table border=\"1\" class=\"dataframe\">\n",
       "  <thead>\n",
       "    <tr style=\"text-align: right;\">\n",
       "      <th></th>\n",
       "      <th>Severity level</th>\n",
       "      <th>No of complaints</th>\n",
       "    </tr>\n",
       "  </thead>\n",
       "  <tbody>\n",
       "    <tr>\n",
       "      <th>0</th>\n",
       "      <td>Medium</td>\n",
       "      <td>92</td>\n",
       "    </tr>\n",
       "    <tr>\n",
       "      <th>1</th>\n",
       "      <td>Low</td>\n",
       "      <td>110</td>\n",
       "    </tr>\n",
       "    <tr>\n",
       "      <th>2</th>\n",
       "      <td>High</td>\n",
       "      <td>98</td>\n",
       "    </tr>\n",
       "  </tbody>\n",
       "</table>\n",
       "</div>"
      ],
      "text/plain": [
       "  Severity level  No of complaints\n",
       "0         Medium                92\n",
       "1            Low               110\n",
       "2           High                98"
      ]
     },
     "execution_count": 32,
     "metadata": {},
     "output_type": "execute_result"
    }
   ],
   "source": [
    "from mysql.connector import connect, Error\n",
    "\n",
    "try:\n",
    "    with connect(host=\"lab-assignment-225.cibzfcia066j.us-east-1.rds.amazonaws.com\",\n",
    "                 user=usrnm,\n",
    "                 password=pwd,\n",
    "                 database=\"sjsu_movie_db\"\n",
    "    ) as connection:\n",
    "        sql12 = \"Select severity,count(*) as 'number of complaints' from cust_complaints group by severity; \"\n",
    "        with connection.cursor() as cur12:\n",
    "            cur12.execute(sql12)\n",
    "            count_severity = pd. DataFrame (cur12. fetchall ())\n",
    "except Error as e:\n",
    "    print(e)\n",
    "    \n",
    "count_severity.columns =['Severity level','No of complaints'] \n",
    "count_severity"
   ]
  },
  {
   "cell_type": "code",
   "execution_count": 33,
   "metadata": {
    "scrolled": true
   },
   "outputs": [
    {
     "data": {
      "image/png": "[encoded data removed]",
      "text/plain": [
       "<Figure size 1440x360 with 1 Axes>"
      ]
     },
     "metadata": {},
     "output_type": "display_data"
    }
   ],
   "source": [
    "ax=count_severity.groupby(['Severity level']).sum().plot(kind='pie', y='No of complaints', autopct='%1.0f%%',\n",
    "                                title='COMPLAINTS BASED ON SEVERITY')\n",
    "ax.set_axis_off()\n",
    "ax = plt.gca()\n",
    "ax=plt.legend(bbox_to_anchor=(1.1, 1.1), bbox_transform=ax.transAxes)"
   ]
  },
  {
   "cell_type": "markdown",
   "metadata": {},
   "source": [
    "### SQL Query 13:"
   ]
  },
  {
   "cell_type": "markdown",
   "metadata": {},
   "source": [
    "#### Display the Average runtime of movies"
   ]
  },
  {
   "cell_type": "code",
   "execution_count": 34,
   "metadata": {},
   "outputs": [
    {
     "name": "stdout",
     "output_type": "stream",
     "text": [
      "Average runtime of the movies is:\t 113.1720  mins.\n"
     ]
    }
   ],
   "source": [
    "from mysql.connector import connect, Error\n",
    "\n",
    "try:\n",
    "    with connect(host=\"lab-assignment-225.cibzfcia066j.us-east-1.rds.amazonaws.com\",\n",
    "                 user=usrnm,\n",
    "                 password=pwd,\n",
    "                 database=\"sjsu_movie_db\"\n",
    "    ) as connection:\n",
    "        sql13 = \"select avg(runtime) from Movie_data ;\"\n",
    "        with connection.cursor() as cur13:\n",
    "            cur13.execute(sql13)\n",
    "            avg_runtime=cur13. fetchone ()\n",
    "            print(\"Average runtime of the movies is:\\t\",avg_runtime[0],\" mins.\")\n",
    "except Error as e:\n",
    "    print(e)"
   ]
  },
  {
   "cell_type": "markdown",
   "metadata": {},
   "source": [
    "### SQL Query 14:"
   ]
  },
  {
   "cell_type": "markdown",
   "metadata": {},
   "source": [
    "#### Display the Total No of complaints registered per month"
   ]
  },
  {
   "cell_type": "code",
   "execution_count": 35,
   "metadata": {},
   "outputs": [
    {
     "data": {
      "text/html": [
       "<div>\n",
       "<style scoped>\n",
       "    .dataframe tbody tr th:only-of-type {\n",
       "        vertical-align: middle;\n",
       "    }\n",
       "\n",
       "    .dataframe tbody tr th {\n",
       "        vertical-align: top;\n",
       "    }\n",
       "\n",
       "    .dataframe thead th {\n",
       "        text-align: right;\n",
       "    }\n",
       "</style>\n",
       "<table border=\"1\" class=\"dataframe\">\n",
       "  <thead>\n",
       "    <tr style=\"text-align: right;\">\n",
       "      <th></th>\n",
       "      <th>Month</th>\n",
       "      <th>No of complaints</th>\n",
       "    </tr>\n",
       "  </thead>\n",
       "  <tbody>\n",
       "    <tr>\n",
       "      <th>0</th>\n",
       "      <td>January</td>\n",
       "      <td>83</td>\n",
       "    </tr>\n",
       "    <tr>\n",
       "      <th>1</th>\n",
       "      <td>February</td>\n",
       "      <td>64</td>\n",
       "    </tr>\n",
       "    <tr>\n",
       "      <th>2</th>\n",
       "      <td>March</td>\n",
       "      <td>153</td>\n",
       "    </tr>\n",
       "  </tbody>\n",
       "</table>\n",
       "</div>"
      ],
      "text/plain": [
       "      Month  No of complaints\n",
       "0   January                83\n",
       "1  February                64\n",
       "2     March               153"
      ]
     },
     "execution_count": 35,
     "metadata": {},
     "output_type": "execute_result"
    }
   ],
   "source": [
    "from mysql.connector import connect, Error\n",
    "\n",
    "try:\n",
    "    with connect(host=\"lab-assignment-225.cibzfcia066j.us-east-1.rds.amazonaws.com\",\n",
    "                 user=usrnm,\n",
    "                 password=pwd,\n",
    "                 database=\"sjsu_movie_db\"\n",
    "    ) as connection:\n",
    "        sql14 = \"\"\"Select date_format((complaint_creation_date),'%M'),count(*) as 'No of Complaints per Month' \n",
    "        from cust_complaints group by month(complaint_creation_date);\"\"\"\n",
    "        with connection.cursor() as cur14:\n",
    "            cur14.execute(sql14)\n",
    "            complaints_per_month = pd. DataFrame (cur14. fetchall ())\n",
    "except Error as e:\n",
    "    print(e)\n",
    "    \n",
    "complaints_per_month.columns =['Month','No of complaints'] \n",
    "complaints_per_month"
   ]
  },
  {
   "cell_type": "code",
   "execution_count": 36,
   "metadata": {
    "scrolled": true
   },
   "outputs": [
    {
     "data": {
      "image/png": "[encoded data removed]",
      "text/plain": [
       "<Figure size 1440x360 with 1 Axes>"
      ]
     },
     "metadata": {},
     "output_type": "display_data"
    }
   ],
   "source": [
    "ax=complaints_per_month.groupby(['Month']).sum().plot(kind='pie', y='No of complaints', autopct='%1.0f%%',\n",
    "                                title='COMPLAINTS PER MONTH')\n",
    "ax.set_axis_off()\n",
    "ax = plt.gca()\n",
    "ax=plt.legend(bbox_to_anchor=(1.2, 1.2), bbox_transform=ax.transAxes)"
   ]
  },
  {
   "cell_type": "markdown",
   "metadata": {},
   "source": [
    "### SQL Query 15:"
   ]
  },
  {
   "cell_type": "markdown",
   "metadata": {},
   "source": [
    "### Display the average salary of an Employee based on the designation"
   ]
  },
  {
   "cell_type": "code",
   "execution_count": 37,
   "metadata": {},
   "outputs": [
    {
     "data": {
      "text/html": [
       "<div>\n",
       "<style scoped>\n",
       "    .dataframe tbody tr th:only-of-type {\n",
       "        vertical-align: middle;\n",
       "    }\n",
       "\n",
       "    .dataframe tbody tr th {\n",
       "        vertical-align: top;\n",
       "    }\n",
       "\n",
       "    .dataframe thead th {\n",
       "        text-align: right;\n",
       "    }\n",
       "</style>\n",
       "<table border=\"1\" class=\"dataframe\">\n",
       "  <thead>\n",
       "    <tr style=\"text-align: right;\">\n",
       "      <th></th>\n",
       "      <th>Designation</th>\n",
       "      <th>Average Salary</th>\n",
       "    </tr>\n",
       "  </thead>\n",
       "  <tbody>\n",
       "    <tr>\n",
       "      <th>0</th>\n",
       "      <td>Trainee</td>\n",
       "      <td>60000.0000</td>\n",
       "    </tr>\n",
       "    <tr>\n",
       "      <th>1</th>\n",
       "      <td>Senior Support Assoc</td>\n",
       "      <td>100000.0000</td>\n",
       "    </tr>\n",
       "    <tr>\n",
       "      <th>2</th>\n",
       "      <td>Tech Support Lead</td>\n",
       "      <td>120000.0000</td>\n",
       "    </tr>\n",
       "    <tr>\n",
       "      <th>3</th>\n",
       "      <td>Junior Support Assoc</td>\n",
       "      <td>80000.0000</td>\n",
       "    </tr>\n",
       "    <tr>\n",
       "      <th>4</th>\n",
       "      <td>Tech Support Manager</td>\n",
       "      <td>150000.0000</td>\n",
       "    </tr>\n",
       "  </tbody>\n",
       "</table>\n",
       "</div>"
      ],
      "text/plain": [
       "            Designation Average Salary\n",
       "0               Trainee     60000.0000\n",
       "1  Senior Support Assoc    100000.0000\n",
       "2     Tech Support Lead    120000.0000\n",
       "3  Junior Support Assoc     80000.0000\n",
       "4  Tech Support Manager    150000.0000"
      ]
     },
     "execution_count": 37,
     "metadata": {},
     "output_type": "execute_result"
    }
   ],
   "source": [
    "from mysql.connector import connect, Error\n",
    "\n",
    "try:\n",
    "    with connect(host=\"lab-assignment-225.cibzfcia066j.us-east-1.rds.amazonaws.com\",\n",
    "                 user=usrnm,\n",
    "                 password=pwd,\n",
    "                 database=\"sjsu_movie_db\"\n",
    "    ) as connection:\n",
    "        sql15 = \"\"\"\\\n",
    "            SELECT emp_position, AVG(emp_salary)\n",
    "            FROM employees \n",
    "            GROUP BY emp_position;\n",
    "            \"\"\"\n",
    "        with connection.cursor() as cur15:\n",
    "            cur15.execute(sql15)\n",
    "            avg_salary = pd. DataFrame (cur15. fetchall ())\n",
    "except Error as e:\n",
    "    print(e)\n",
    "    \n",
    "avg_salary.columns =['Designation','Average Salary'] \n",
    "avg_salary"
   ]
  },
  {
   "cell_type": "code",
   "execution_count": 38,
   "metadata": {},
   "outputs": [
    {
     "data": {
      "image/png": "[encoded data removed]",
      "text/plain": [
       "<Figure size 576x576 with 1 Axes>"
      ]
     },
     "metadata": {},
     "output_type": "display_data"
    }
   ],
   "source": [
    "plt.figure(figsize=(8,8))\n",
    "plot = sns.barplot(x='Designation',y= 'Average Salary',data=avg_salary)\n",
    "plot.set_title('SALARY BASED ON DESIGNATION',fontweight = 'bold',fontsize = 12)\n",
    "plot.set_xlabel('Designation',fontweight = 'bold',fontsize = 10)\n",
    "plot.set_ylabel('Average Salary',fontweight = 'bold',fontsize = 10)\n",
    "plot.bar_label(plot.containers[0],color='r',fontweight='bold')\n",
    "plot.tick_params(rotation=90)\n",
    "plt.show()"
   ]
  },
  {
   "cell_type": "markdown",
   "metadata": {},
   "source": [
    "### SQL Query 16:"
   ]
  },
  {
   "cell_type": "markdown",
   "metadata": {},
   "source": [
    "#### Display the Total No of employess per designation based on employment status"
   ]
  },
  {
   "cell_type": "code",
   "execution_count": 39,
   "metadata": {},
   "outputs": [
    {
     "data": {
      "text/html": [
       "<div>\n",
       "<style scoped>\n",
       "    .dataframe tbody tr th:only-of-type {\n",
       "        vertical-align: middle;\n",
       "    }\n",
       "\n",
       "    .dataframe tbody tr th {\n",
       "        vertical-align: top;\n",
       "    }\n",
       "\n",
       "    .dataframe thead th {\n",
       "        text-align: right;\n",
       "    }\n",
       "</style>\n",
       "<table border=\"1\" class=\"dataframe\">\n",
       "  <thead>\n",
       "    <tr style=\"text-align: right;\">\n",
       "      <th></th>\n",
       "      <th>Employment Status</th>\n",
       "      <th>Designation</th>\n",
       "      <th>No of Employees</th>\n",
       "    </tr>\n",
       "  </thead>\n",
       "  <tbody>\n",
       "    <tr>\n",
       "      <th>0</th>\n",
       "      <td>Permanent Worker</td>\n",
       "      <td>Trainee</td>\n",
       "      <td>15</td>\n",
       "    </tr>\n",
       "    <tr>\n",
       "      <th>1</th>\n",
       "      <td>Permanent Worker</td>\n",
       "      <td>Senior Support Assoc</td>\n",
       "      <td>4</td>\n",
       "    </tr>\n",
       "    <tr>\n",
       "      <th>2</th>\n",
       "      <td>Permanent Worker</td>\n",
       "      <td>Junior Support Assoc</td>\n",
       "      <td>6</td>\n",
       "    </tr>\n",
       "    <tr>\n",
       "      <th>3</th>\n",
       "      <td>Permanent Worker</td>\n",
       "      <td>Tech Support Lead</td>\n",
       "      <td>3</td>\n",
       "    </tr>\n",
       "    <tr>\n",
       "      <th>4</th>\n",
       "      <td>Permanent Worker</td>\n",
       "      <td>Tech Support Manager</td>\n",
       "      <td>4</td>\n",
       "    </tr>\n",
       "    <tr>\n",
       "      <th>5</th>\n",
       "      <td>Termporary Worker</td>\n",
       "      <td>Trainee</td>\n",
       "      <td>5</td>\n",
       "    </tr>\n",
       "    <tr>\n",
       "      <th>6</th>\n",
       "      <td>Termporary Worker</td>\n",
       "      <td>Tech Support Lead</td>\n",
       "      <td>4</td>\n",
       "    </tr>\n",
       "    <tr>\n",
       "      <th>7</th>\n",
       "      <td>Termporary Worker</td>\n",
       "      <td>Senior Support Assoc</td>\n",
       "      <td>5</td>\n",
       "    </tr>\n",
       "    <tr>\n",
       "      <th>8</th>\n",
       "      <td>Termporary Worker</td>\n",
       "      <td>Tech Support Manager</td>\n",
       "      <td>2</td>\n",
       "    </tr>\n",
       "    <tr>\n",
       "      <th>9</th>\n",
       "      <td>Termporary Worker</td>\n",
       "      <td>Junior Support Assoc</td>\n",
       "      <td>2</td>\n",
       "    </tr>\n",
       "  </tbody>\n",
       "</table>\n",
       "</div>"
      ],
      "text/plain": [
       "   Employment Status           Designation  No of Employees\n",
       "0   Permanent Worker               Trainee               15\n",
       "1   Permanent Worker  Senior Support Assoc                4\n",
       "2   Permanent Worker  Junior Support Assoc                6\n",
       "3   Permanent Worker     Tech Support Lead                3\n",
       "4   Permanent Worker  Tech Support Manager                4\n",
       "5  Termporary Worker               Trainee                5\n",
       "6  Termporary Worker     Tech Support Lead                4\n",
       "7  Termporary Worker  Senior Support Assoc                5\n",
       "8  Termporary Worker  Tech Support Manager                2\n",
       "9  Termporary Worker  Junior Support Assoc                2"
      ]
     },
     "execution_count": 39,
     "metadata": {},
     "output_type": "execute_result"
    }
   ],
   "source": [
    "from mysql.connector import connect, Error\n",
    "\n",
    "try:\n",
    "    with connect(host=\"lab-assignment-225.cibzfcia066j.us-east-1.rds.amazonaws.com\",\n",
    "                 user=usrnm,\n",
    "                 password=pwd,\n",
    "                 database=\"sjsu_movie_db\"\n",
    "    ) as connection:\n",
    "        sql16 = \"\"\"Select employment_status, emp_position, count(*) as 'Number of Employees' \n",
    "        from employees group by emp_position,employment_status order by employment_status;\"\"\"\n",
    "        with connection.cursor() as cur16:\n",
    "            cur16.execute(sql16)\n",
    "            no_of_emp = pd. DataFrame (cur16. fetchall ())\n",
    "except Error as e:\n",
    "    print(e)\n",
    "    \n",
    "no_of_emp.columns =['Employment Status','Designation','No of Employees'] \n",
    "no_of_emp"
   ]
  },
  {
   "cell_type": "markdown",
   "metadata": {},
   "source": [
    "## <center> STORED PROCEDURE EXECUTION </center>"
   ]
  },
  {
   "cell_type": "markdown",
   "metadata": {},
   "source": [
    "### STORED PROCEDURE 1:"
   ]
  },
  {
   "cell_type": "markdown",
   "metadata": {},
   "source": [
    "#### Execution of stored procedure created to list the 5 oldest open complaints"
   ]
  },
  {
   "cell_type": "code",
   "execution_count": 40,
   "metadata": {},
   "outputs": [
    {
     "data": {
      "text/html": [
       "<div>\n",
       "<style scoped>\n",
       "    .dataframe tbody tr th:only-of-type {\n",
       "        vertical-align: middle;\n",
       "    }\n",
       "\n",
       "    .dataframe tbody tr th {\n",
       "        vertical-align: top;\n",
       "    }\n",
       "\n",
       "    .dataframe thead th {\n",
       "        text-align: right;\n",
       "    }\n",
       "</style>\n",
       "<table border=\"1\" class=\"dataframe\">\n",
       "  <thead>\n",
       "    <tr style=\"text-align: right;\">\n",
       "      <th></th>\n",
       "      <th>Complaint ID</th>\n",
       "      <th>Complaint Description</th>\n",
       "      <th>Resolution Status</th>\n",
       "      <th>Severity</th>\n",
       "      <th>Complaint Creation Date</th>\n",
       "      <th>Estimated Resolution Date</th>\n",
       "      <th>Close Date</th>\n",
       "    </tr>\n",
       "  </thead>\n",
       "  <tbody>\n",
       "    <tr>\n",
       "      <th>0</th>\n",
       "      <td>3090315</td>\n",
       "      <td>Problems with the video quality or aspect ratio</td>\n",
       "      <td>Open</td>\n",
       "      <td>Low</td>\n",
       "      <td>2022-03-07</td>\n",
       "      <td>2022-03-21</td>\n",
       "      <td>None</td>\n",
       "    </tr>\n",
       "    <tr>\n",
       "      <th>1</th>\n",
       "      <td>3090314</td>\n",
       "      <td>Buffering</td>\n",
       "      <td>Open</td>\n",
       "      <td>High</td>\n",
       "      <td>2022-03-07</td>\n",
       "      <td>2022-03-21</td>\n",
       "      <td>None</td>\n",
       "    </tr>\n",
       "    <tr>\n",
       "      <th>2</th>\n",
       "      <td>3090313</td>\n",
       "      <td>Problems with the video quality or aspect ratio</td>\n",
       "      <td>Open</td>\n",
       "      <td>High</td>\n",
       "      <td>2022-03-07</td>\n",
       "      <td>2022-03-21</td>\n",
       "      <td>None</td>\n",
       "    </tr>\n",
       "    <tr>\n",
       "      <th>3</th>\n",
       "      <td>3090317</td>\n",
       "      <td>Charged for the wrong user</td>\n",
       "      <td>Open</td>\n",
       "      <td>Low</td>\n",
       "      <td>2022-03-07</td>\n",
       "      <td>2022-03-21</td>\n",
       "      <td>None</td>\n",
       "    </tr>\n",
       "    <tr>\n",
       "      <th>4</th>\n",
       "      <td>3090312</td>\n",
       "      <td>Problems with the maturity rating or classific...</td>\n",
       "      <td>Open</td>\n",
       "      <td>High</td>\n",
       "      <td>2022-03-07</td>\n",
       "      <td>2022-03-21</td>\n",
       "      <td>None</td>\n",
       "    </tr>\n",
       "  </tbody>\n",
       "</table>\n",
       "</div>"
      ],
      "text/plain": [
       "  Complaint ID                              Complaint Description  \\\n",
       "0      3090315    Problems with the video quality or aspect ratio   \n",
       "1      3090314                                          Buffering   \n",
       "2      3090313    Problems with the video quality or aspect ratio   \n",
       "3      3090317                         Charged for the wrong user   \n",
       "4      3090312  Problems with the maturity rating or classific...   \n",
       "\n",
       "  Resolution Status Severity Complaint Creation Date  \\\n",
       "0              Open      Low              2022-03-07   \n",
       "1              Open     High              2022-03-07   \n",
       "2              Open     High              2022-03-07   \n",
       "3              Open      Low              2022-03-07   \n",
       "4              Open     High              2022-03-07   \n",
       "\n",
       "  Estimated Resolution Date Close Date  \n",
       "0                2022-03-21       None  \n",
       "1                2022-03-21       None  \n",
       "2                2022-03-21       None  \n",
       "3                2022-03-21       None  \n",
       "4                2022-03-21       None  "
      ]
     },
     "execution_count": 40,
     "metadata": {},
     "output_type": "execute_result"
    }
   ],
   "source": [
    "from mysql.connector import connect, Error\n",
    "\n",
    "try:\n",
    "    with connect(host=\"lab-assignment-225.cibzfcia066j.us-east-1.rds.amazonaws.com\",\n",
    "                 user=usrnm,\n",
    "                 password=pwd,\n",
    "                 database=\"sjsu_movie_db\"\n",
    "    ) as connection:\n",
    "        sp1 = \"call CompResolutionStatus('Open')\"\n",
    "        with connection.cursor() as cursp1:\n",
    "            cursp1.execute(sp1)\n",
    "            sp1_result = pd. DataFrame (cursp1. fetchall ())\n",
    "except Error as e:\n",
    "    print(e)\n",
    "    \n",
    "sp1_result.columns = ['Complaint ID','Complaint Description','Resolution Status','Severity',\n",
    "                      'Complaint Creation Date','Estimated Resolution Date','Close Date']\n",
    "sp1_result"
   ]
  },
  {
   "cell_type": "markdown",
   "metadata": {},
   "source": [
    "### STORED PROCEDURE 2:"
   ]
  },
  {
   "cell_type": "markdown",
   "metadata": {},
   "source": [
    "#### Display the TOP 10 Customers who watched most movies on the  month read as Input"
   ]
  },
  {
   "cell_type": "code",
   "execution_count": 41,
   "metadata": {},
   "outputs": [
    {
     "name": "stdout",
     "output_type": "stream",
     "text": [
      "Enter Month number:\t4\n"
     ]
    },
    {
     "data": {
      "text/html": [
       "<div>\n",
       "<style scoped>\n",
       "    .dataframe tbody tr th:only-of-type {\n",
       "        vertical-align: middle;\n",
       "    }\n",
       "\n",
       "    .dataframe tbody tr th {\n",
       "        vertical-align: top;\n",
       "    }\n",
       "\n",
       "    .dataframe thead th {\n",
       "        text-align: right;\n",
       "    }\n",
       "</style>\n",
       "<table border=\"1\" class=\"dataframe\">\n",
       "  <thead>\n",
       "    <tr style=\"text-align: right;\">\n",
       "      <th></th>\n",
       "      <th>Customer Name</th>\n",
       "      <th>No of Movies Watched</th>\n",
       "    </tr>\n",
       "  </thead>\n",
       "  <tbody>\n",
       "    <tr>\n",
       "      <th>0</th>\n",
       "      <td>Rodolfo Polidori</td>\n",
       "      <td>5</td>\n",
       "    </tr>\n",
       "    <tr>\n",
       "      <th>1</th>\n",
       "      <td>Ty Fritz</td>\n",
       "      <td>4</td>\n",
       "    </tr>\n",
       "    <tr>\n",
       "      <th>2</th>\n",
       "      <td>Tonja Sama</td>\n",
       "      <td>4</td>\n",
       "    </tr>\n",
       "    <tr>\n",
       "      <th>3</th>\n",
       "      <td>Audrie Fredicks</td>\n",
       "      <td>4</td>\n",
       "    </tr>\n",
       "    <tr>\n",
       "      <th>4</th>\n",
       "      <td>Carisa Toyama</td>\n",
       "      <td>4</td>\n",
       "    </tr>\n",
       "    <tr>\n",
       "      <th>5</th>\n",
       "      <td>Kami Lacovara</td>\n",
       "      <td>4</td>\n",
       "    </tr>\n",
       "    <tr>\n",
       "      <th>6</th>\n",
       "      <td>Shenika Salta</td>\n",
       "      <td>4</td>\n",
       "    </tr>\n",
       "    <tr>\n",
       "      <th>7</th>\n",
       "      <td>Staci Sonkens</td>\n",
       "      <td>4</td>\n",
       "    </tr>\n",
       "    <tr>\n",
       "      <th>8</th>\n",
       "      <td>Verda Nievas</td>\n",
       "      <td>4</td>\n",
       "    </tr>\n",
       "    <tr>\n",
       "      <th>9</th>\n",
       "      <td>Berry Vanheusen</td>\n",
       "      <td>3</td>\n",
       "    </tr>\n",
       "  </tbody>\n",
       "</table>\n",
       "</div>"
      ],
      "text/plain": [
       "      Customer Name  No of Movies Watched\n",
       "0  Rodolfo Polidori                     5\n",
       "1          Ty Fritz                     4\n",
       "2        Tonja Sama                     4\n",
       "3   Audrie Fredicks                     4\n",
       "4     Carisa Toyama                     4\n",
       "5     Kami Lacovara                     4\n",
       "6     Shenika Salta                     4\n",
       "7     Staci Sonkens                     4\n",
       "8      Verda Nievas                     4\n",
       "9   Berry Vanheusen                     3"
      ]
     },
     "execution_count": 41,
     "metadata": {},
     "output_type": "execute_result"
    }
   ],
   "source": [
    "from mysql.connector import connect, Error\n",
    "\n",
    "try:\n",
    "    with connect(host=\"lab-assignment-225.cibzfcia066j.us-east-1.rds.amazonaws.com\",\n",
    "                 user=usrnm,\n",
    "                 password=pwd,\n",
    "                 database=\"sjsu_movie_db\"\n",
    "    ) as connection:\n",
    "        a=input(\"Enter Month number:\\t\")\n",
    "        sp2 = \"call GetMaximumTrafficInAMonth('{}')\".format(a)\n",
    "        with connection.cursor() as cursp2:\n",
    "            cursp2.execute(sp2)\n",
    "            sp2_result = pd. DataFrame (cursp2. fetchall ())\n",
    "except Error as e:\n",
    "    print(e)\n",
    "    \n",
    "sp2_result.columns = ['Customer Name','No of Movies Watched']\n",
    "sp2_result"
   ]
  },
  {
   "cell_type": "code",
   "execution_count": 42,
   "metadata": {
    "scrolled": true
   },
   "outputs": [
    {
     "data": {
      "image/png": "[encoded data removed]",
      "text/plain": [
       "<Figure size 1440x360 with 1 Axes>"
      ]
     },
     "metadata": {},
     "output_type": "display_data"
    }
   ],
   "source": [
    "plt.title('TOP 10 CUSTOMERS BASED ON NO OF MOVIES WATCHED PER MONTH', size=16,color='BLACK')\n",
    "sns.set(rc = {'figure.figsize':(20,5)})\n",
    "g = sns.barplot(x = 'Customer Name', y = 'No of Movies Watched',data=sp2_result)\n",
    "ax=g.bar_label(g.containers[0])"
   ]
  },
  {
   "cell_type": "markdown",
   "metadata": {},
   "source": [
    "### STORED PROCEDURE 3:"
   ]
  },
  {
   "cell_type": "markdown",
   "metadata": {},
   "source": [
    "#### Display top 10 movies  and No of times it is watched for the 'year' read as input"
   ]
  },
  {
   "cell_type": "code",
   "execution_count": 43,
   "metadata": {
    "scrolled": false
   },
   "outputs": [
    {
     "name": "stdout",
     "output_type": "stream",
     "text": [
      "Enter the year (2006 - 2016) for which top 10 movies need to be displayed:\t2009\n"
     ]
    },
    {
     "data": {
      "text/html": [
       "<div>\n",
       "<style scoped>\n",
       "    .dataframe tbody tr th:only-of-type {\n",
       "        vertical-align: middle;\n",
       "    }\n",
       "\n",
       "    .dataframe tbody tr th {\n",
       "        vertical-align: top;\n",
       "    }\n",
       "\n",
       "    .dataframe thead th {\n",
       "        text-align: right;\n",
       "    }\n",
       "</style>\n",
       "<table border=\"1\" class=\"dataframe\">\n",
       "  <thead>\n",
       "    <tr style=\"text-align: right;\">\n",
       "      <th></th>\n",
       "      <th>Year</th>\n",
       "      <th>Title</th>\n",
       "      <th>No of times watched</th>\n",
       "    </tr>\n",
       "  </thead>\n",
       "  <tbody>\n",
       "    <tr>\n",
       "      <th>0</th>\n",
       "      <td>2009</td>\n",
       "      <td>Pandorum</td>\n",
       "      <td>13</td>\n",
       "    </tr>\n",
       "    <tr>\n",
       "      <th>1</th>\n",
       "      <td>2009</td>\n",
       "      <td>The Ugly Truth</td>\n",
       "      <td>13</td>\n",
       "    </tr>\n",
       "    <tr>\n",
       "      <th>2</th>\n",
       "      <td>2009</td>\n",
       "      <td>2012</td>\n",
       "      <td>12</td>\n",
       "    </tr>\n",
       "    <tr>\n",
       "      <th>3</th>\n",
       "      <td>2009</td>\n",
       "      <td>Watchmen</td>\n",
       "      <td>12</td>\n",
       "    </tr>\n",
       "    <tr>\n",
       "      <th>4</th>\n",
       "      <td>2009</td>\n",
       "      <td>Avatar</td>\n",
       "      <td>11</td>\n",
       "    </tr>\n",
       "    <tr>\n",
       "      <th>5</th>\n",
       "      <td>2009</td>\n",
       "      <td>Up</td>\n",
       "      <td>11</td>\n",
       "    </tr>\n",
       "    <tr>\n",
       "      <th>6</th>\n",
       "      <td>2009</td>\n",
       "      <td>The Lovely Bones</td>\n",
       "      <td>11</td>\n",
       "    </tr>\n",
       "    <tr>\n",
       "      <th>7</th>\n",
       "      <td>2009</td>\n",
       "      <td>Terminator Salvation</td>\n",
       "      <td>11</td>\n",
       "    </tr>\n",
       "    <tr>\n",
       "      <th>8</th>\n",
       "      <td>2009</td>\n",
       "      <td>Underworld: Rise of the Lycans</td>\n",
       "      <td>10</td>\n",
       "    </tr>\n",
       "    <tr>\n",
       "      <th>9</th>\n",
       "      <td>2009</td>\n",
       "      <td>Harry Potter and the Half-Blood Prince</td>\n",
       "      <td>10</td>\n",
       "    </tr>\n",
       "  </tbody>\n",
       "</table>\n",
       "</div>"
      ],
      "text/plain": [
       "   Year                                   Title  No of times watched\n",
       "0  2009                                Pandorum                   13\n",
       "1  2009                          The Ugly Truth                   13\n",
       "2  2009                                    2012                   12\n",
       "3  2009                                Watchmen                   12\n",
       "4  2009                                  Avatar                   11\n",
       "5  2009                                      Up                   11\n",
       "6  2009                        The Lovely Bones                   11\n",
       "7  2009                    Terminator Salvation                   11\n",
       "8  2009          Underworld: Rise of the Lycans                   10\n",
       "9  2009  Harry Potter and the Half-Blood Prince                   10"
      ]
     },
     "execution_count": 43,
     "metadata": {},
     "output_type": "execute_result"
    }
   ],
   "source": [
    "from mysql.connector import connect, Error\n",
    "\n",
    "try:\n",
    "    with connect(host=\"lab-assignment-225.cibzfcia066j.us-east-1.rds.amazonaws.com\",\n",
    "                 user=usrnm,\n",
    "                 password=pwd,\n",
    "                 database=\"sjsu_movie_db\"\n",
    "    ) as connection:\n",
    "        a=input(\"Enter the year (2006 - 2016) for which top 10 movies need to be displayed:\\t\")\n",
    "        sp3 = \"call TopTenMoviesPerYear('{}')\".format(a)\n",
    "        with connection.cursor() as cursp3:\n",
    "            cursp3.execute(sp3)\n",
    "            sp3_result = pd. DataFrame (cursp3. fetchall ())\n",
    "except Error as e:\n",
    "    print(e)\n",
    "    \n",
    "sp3_result.columns = ['Year','Title','No of times watched']\n",
    "sp3_result"
   ]
  },
  {
   "cell_type": "code",
   "execution_count": 44,
   "metadata": {},
   "outputs": [
    {
     "data": {
      "image/png": "[encoded data removed]",
      "text/plain": [
       "<Figure size 1440x360 with 1 Axes>"
      ]
     },
     "metadata": {},
     "output_type": "display_data"
    }
   ],
   "source": [
    "plt.title('TOP 10 MOVIES PER YEAR BASED ON RELEASE DATE AND WATCH HISTORY', size=16,color='BLACK')\n",
    "sns.set(rc = {'figure.figsize':(20,4)})\n",
    "g = sns.barplot(x = 'Title', y = 'No of times watched',data=sp3_result)\n",
    "plt.xticks(rotation=45)\n",
    "ax=g.bar_label(g.containers[0])"
   ]
  },
  {
   "cell_type": "markdown",
   "metadata": {},
   "source": [
    "### STORED PROCEDURE 4:"
   ]
  },
  {
   "cell_type": "markdown",
   "metadata": {},
   "source": [
    "<B>Read customer id and 'personal' or 'invoice' as customer input.</B><br>\n",
    "<B>If personal selected, personal details of the customer will be displayed.</B><br>\n",
    "<B>If invoice selected, invoice details will be selected.</B><br>"
   ]
  },
  {
   "cell_type": "code",
   "execution_count": 45,
   "metadata": {},
   "outputs": [
    {
     "name": "stdout",
     "output_type": "stream",
     "text": [
      "Enter customer id:\t9000000843\n",
      "Personal or Invoice details needed? Please enter input \tinvoice\n"
     ]
    },
    {
     "data": {
      "text/html": [
       "<div>\n",
       "<style scoped>\n",
       "    .dataframe tbody tr th:only-of-type {\n",
       "        vertical-align: middle;\n",
       "    }\n",
       "\n",
       "    .dataframe tbody tr th {\n",
       "        vertical-align: top;\n",
       "    }\n",
       "\n",
       "    .dataframe thead th {\n",
       "        text-align: right;\n",
       "    }\n",
       "</style>\n",
       "<table border=\"1\" class=\"dataframe\">\n",
       "  <thead>\n",
       "    <tr style=\"text-align: right;\">\n",
       "      <th></th>\n",
       "      <th>ID</th>\n",
       "      <th>First Name</th>\n",
       "      <th>Last Name</th>\n",
       "      <th>Payment Method</th>\n",
       "      <th>Total Amount</th>\n",
       "      <th>Payment Date</th>\n",
       "    </tr>\n",
       "  </thead>\n",
       "  <tbody>\n",
       "    <tr>\n",
       "      <th>0</th>\n",
       "      <td>9000000843</td>\n",
       "      <td>Nobuko</td>\n",
       "      <td>Hallford</td>\n",
       "      <td>Mobile payment</td>\n",
       "      <td>2021-06-25</td>\n",
       "      <td>19.95</td>\n",
       "    </tr>\n",
       "  </tbody>\n",
       "</table>\n",
       "</div>"
      ],
      "text/plain": [
       "           ID First Name Last Name  Payment Method Total Amount Payment Date\n",
       "0  9000000843     Nobuko  Hallford  Mobile payment   2021-06-25        19.95"
      ]
     },
     "execution_count": 45,
     "metadata": {},
     "output_type": "execute_result"
    }
   ],
   "source": [
    "    from mysql.connector import connect, Error\n",
    "\n",
    "    try:\n",
    "        with connect(host=\"lab-assignment-225.cibzfcia066j.us-east-1.rds.amazonaws.com\",\n",
    "                 user=usrnm,\n",
    "                 password=pwd,\n",
    "                 database=\"sjsu_movie_db\"\n",
    "    ) as connection:\n",
    "            a=input(\"Enter customer id:\\t\")           \n",
    "            b=input(\"Personal or Invoice details needed? Please enter input \\t\")\n",
    "            inp_var=\"'\"+a+\"','\"+b+\"'\"\n",
    "            sp4 = \"call DetailsOfCustomer({})\".format(inp_var)\n",
    "            with connection.cursor() as cursp4:\n",
    "                cursp4.execute(sp4)\n",
    "                sp4_result = pd. DataFrame (cursp4. fetchall ())\n",
    "    except Error as e:\n",
    "        print(e)\n",
    "\n",
    "    if(b.upper()==\"INVOICE\"):\n",
    "        sp4_result.columns = ['ID','First Name','Last Name','Payment Method','Total Amount','Payment Date']\n",
    "    else:\n",
    "        sp4_result.columns =['ID','SSN','First Name','Middle Name','Last Name','Phone NO','Email','Address Line 1','City','State','Country','Zipcode']\n",
    "    sp4_result"
   ]
  },
  {
   "cell_type": "markdown",
   "metadata": {},
   "source": [
    "### STORED PROCEDURE 5:"
   ]
  },
  {
   "cell_type": "markdown",
   "metadata": {},
   "source": [
    "#### Payment based on year and month"
   ]
  },
  {
   "cell_type": "code",
   "execution_count": 46,
   "metadata": {},
   "outputs": [
    {
     "data": {
      "text/html": [
       "<div>\n",
       "<style scoped>\n",
       "    .dataframe tbody tr th:only-of-type {\n",
       "        vertical-align: middle;\n",
       "    }\n",
       "\n",
       "    .dataframe tbody tr th {\n",
       "        vertical-align: top;\n",
       "    }\n",
       "\n",
       "    .dataframe thead th {\n",
       "        text-align: right;\n",
       "    }\n",
       "</style>\n",
       "<table border=\"1\" class=\"dataframe\">\n",
       "  <thead>\n",
       "    <tr style=\"text-align: right;\">\n",
       "      <th></th>\n",
       "      <th>Year</th>\n",
       "      <th>Month</th>\n",
       "      <th>Total Amount</th>\n",
       "    </tr>\n",
       "  </thead>\n",
       "  <tbody>\n",
       "    <tr>\n",
       "      <th>0</th>\n",
       "      <td>2021</td>\n",
       "      <td>January</td>\n",
       "      <td>1815.45</td>\n",
       "    </tr>\n",
       "    <tr>\n",
       "      <th>1</th>\n",
       "      <td>2021</td>\n",
       "      <td>February</td>\n",
       "      <td>1416.45</td>\n",
       "    </tr>\n",
       "    <tr>\n",
       "      <th>2</th>\n",
       "      <td>2021</td>\n",
       "      <td>March</td>\n",
       "      <td>1895.25</td>\n",
       "    </tr>\n",
       "    <tr>\n",
       "      <th>3</th>\n",
       "      <td>2021</td>\n",
       "      <td>April</td>\n",
       "      <td>1556.10</td>\n",
       "    </tr>\n",
       "    <tr>\n",
       "      <th>4</th>\n",
       "      <td>2021</td>\n",
       "      <td>May</td>\n",
       "      <td>1576.05</td>\n",
       "    </tr>\n",
       "    <tr>\n",
       "      <th>5</th>\n",
       "      <td>2021</td>\n",
       "      <td>June</td>\n",
       "      <td>1755.60</td>\n",
       "    </tr>\n",
       "    <tr>\n",
       "      <th>6</th>\n",
       "      <td>2021</td>\n",
       "      <td>July</td>\n",
       "      <td>1835.40</td>\n",
       "    </tr>\n",
       "    <tr>\n",
       "      <th>7</th>\n",
       "      <td>2021</td>\n",
       "      <td>August</td>\n",
       "      <td>1576.05</td>\n",
       "    </tr>\n",
       "    <tr>\n",
       "      <th>8</th>\n",
       "      <td>2021</td>\n",
       "      <td>September</td>\n",
       "      <td>1615.95</td>\n",
       "    </tr>\n",
       "    <tr>\n",
       "      <th>9</th>\n",
       "      <td>2021</td>\n",
       "      <td>October</td>\n",
       "      <td>1695.75</td>\n",
       "    </tr>\n",
       "    <tr>\n",
       "      <th>10</th>\n",
       "      <td>2021</td>\n",
       "      <td>November</td>\n",
       "      <td>1615.95</td>\n",
       "    </tr>\n",
       "    <tr>\n",
       "      <th>11</th>\n",
       "      <td>2021</td>\n",
       "      <td>December</td>\n",
       "      <td>1596.00</td>\n",
       "    </tr>\n",
       "  </tbody>\n",
       "</table>\n",
       "</div>"
      ],
      "text/plain": [
       "    Year      Month Total Amount\n",
       "0   2021    January      1815.45\n",
       "1   2021   February      1416.45\n",
       "2   2021      March      1895.25\n",
       "3   2021      April      1556.10\n",
       "4   2021        May      1576.05\n",
       "5   2021       June      1755.60\n",
       "6   2021       July      1835.40\n",
       "7   2021     August      1576.05\n",
       "8   2021  September      1615.95\n",
       "9   2021    October      1695.75\n",
       "10  2021   November      1615.95\n",
       "11  2021   December      1596.00"
      ]
     },
     "execution_count": 46,
     "metadata": {},
     "output_type": "execute_result"
    }
   ],
   "source": [
    "from mysql.connector import connect, Error\n",
    "\n",
    "try:\n",
    "    with connect(host=\"lab-assignment-225.cibzfcia066j.us-east-1.rds.amazonaws.com\",\n",
    "                 user=usrnm,\n",
    "                 password=pwd,\n",
    "                 database=\"sjsu_movie_db\"\n",
    "    ) as connection:\n",
    "        sp5 = \"call payment_per_month()\"\n",
    "        with connection.cursor() as cursp5:\n",
    "            cursp5.execute(sp5)\n",
    "            sp5_result = pd. DataFrame (cursp5. fetchall ())\n",
    "except Error as e:\n",
    "    print(e)\n",
    "    \n",
    "sp5_result.columns = ['Year','Month','Total Amount']\n",
    "sp5_result"
   ]
  },
  {
   "cell_type": "code",
   "execution_count": 47,
   "metadata": {
    "scrolled": false
   },
   "outputs": [
    {
     "data": {
      "image/png": "[encoded data removed]",
      "text/plain": [
       "<Figure size 1440x288 with 1 Axes>"
      ]
     },
     "metadata": {},
     "output_type": "display_data"
    }
   ],
   "source": [
    "plt.title('PAYMENT PER MONTH', size=16,color='BLACK')\n",
    "sns.set(rc = {'figure.figsize':(20,5)})\n",
    "g = sns.barplot(x = 'Month', y = 'Total Amount',data=sp5_result)\n",
    "ax=g.bar_label(g.containers[0])"
   ]
  },
  {
   "cell_type": "markdown",
   "metadata": {},
   "source": [
    "## <center> MEASURING EXECUTION TIME </center> "
   ]
  },
  {
   "cell_type": "code",
   "execution_count": 48,
   "metadata": {
    "scrolled": true
   },
   "outputs": [
    {
     "name": "stdout",
     "output_type": "stream",
     "text": [
      "Time taken to run: 51.48356771469116 seconds\n"
     ]
    }
   ],
   "source": [
    "print(f'Time taken to run: {time() - start} seconds')"
   ]
  },
  {
   "cell_type": "markdown",
   "metadata": {},
   "source": [
    "<center>End of Document<center>\n",
    "<center> Submitted by : Gayathri Sundareshwar, Keerthana Gopikrishnan, Deepasha Jenamani <center>\n",
    "<center> 25th March 2022 <center>"
   ]
  }
 ],
 "metadata": {
  "kernelspec": {
   "display_name": "Python 3 (ipykernel)",
   "language": "python",
   "name": "python3"
  },
  "language_info": {
   "codemirror_mode": {
    "name": "ipython",
    "version": 3
   },
   "file_extension": ".py",
   "mimetype": "text/x-python",
   "name": "python",
   "nbconvert_exporter": "python",
   "pygments_lexer": "ipython3",
   "version": "3.9.7"
  }
 },
 "nbformat": 4,
 "nbformat_minor": 4
}
